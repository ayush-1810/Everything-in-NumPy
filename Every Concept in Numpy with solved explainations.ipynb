{
  "cells": [
    {
      "cell_type": "markdown",
      "id": "71793547",
      "metadata": {
        "id": "71793547"
      },
      "source": [
        "## **Introduction to NumPy:**\n",
        "```NumPy``` stands for *Numerical Python* and it's a fundamental package for scientific computing in Python. NumPy provides Python with an extensive math library capable of performing numerical computations effectively and efficiently. These lessons are intended as a basic overview of NumPy and introduces some of its most important features."
      ]
    },
    {
      "cell_type": "markdown",
      "id": "0e4fd251",
      "metadata": {
        "id": "0e4fd251"
      },
      "source": [
        "## **Why Numpy:**\n",
        "You may be wondering why people use NumPy - after all, Python can handle lists, as you learned in the Intro to Python lessons.\n",
        "\n",
        "Even though Python lists are great on their own, NumPy has a number of key features that give it great advantages over Python lists. One such feature is speed. When performing operations on large arrays NumPy can often perform several orders of magnitude faster than Python lists. This speed comes from the nature of NumPy arrays being memory-efficient and from optimized algorithms used by NumPy for doing arithmetic, statistical, and linear algebra operations."
      ]
    },
    {
      "cell_type": "code",
      "execution_count": 1,
      "id": "e72a62a0",
      "metadata": {
        "id": "e72a62a0"
      },
      "outputs": [],
      "source": [
        "import time\n",
        "import numpy as np"
      ]
    },
    {
      "cell_type": "code",
      "execution_count": 2,
      "id": "ceefd5c0",
      "metadata": {
        "id": "ceefd5c0",
        "outputId": "26297f8e-88bd-49b6-98e3-a6468e782984",
        "colab": {
          "base_uri": "https://localhost:8080/"
        }
      },
      "outputs": [
        {
          "output_type": "execute_result",
          "data": {
            "text/plain": [
              "array([0.44055711, 0.29476118, 0.8912443 , ..., 0.12213276, 0.94962969,\n",
              "       0.33936842])"
            ]
          },
          "metadata": {},
          "execution_count": 2
        }
      ],
      "source": [
        "x = np.random.rand(100000)\n",
        "x"
      ]
    },
    {
      "cell_type": "code",
      "execution_count": 3,
      "id": "aabae552",
      "metadata": {
        "id": "aabae552",
        "outputId": "96531656-cdeb-47dc-ec19-0a10cb021d9e",
        "colab": {
          "base_uri": "https://localhost:8080/"
        }
      },
      "outputs": [
        {
          "output_type": "stream",
          "name": "stdout",
          "text": [
            "0.012935638427734375\n"
          ]
        }
      ],
      "source": [
        "start = time.time()\n",
        "mean = sum(x)/len(x)\n",
        "print(time.time() - start)"
      ]
    },
    {
      "cell_type": "code",
      "execution_count": 4,
      "id": "f4938ce2",
      "metadata": {
        "id": "f4938ce2",
        "outputId": "d177ed21-84a1-4e82-d59c-32a7e801b086",
        "colab": {
          "base_uri": "https://localhost:8080/"
        }
      },
      "outputs": [
        {
          "output_type": "stream",
          "name": "stdout",
          "text": [
            "0.0003750324249267578\n"
          ]
        }
      ],
      "source": [
        "start = time.time()\n",
        "mean_np = np.mean(x)\n",
        "print(time.time() - start)"
      ]
    },
    {
      "cell_type": "markdown",
      "id": "f26abf8b",
      "metadata": {
        "id": "f26abf8b"
      },
      "source": [
        "## **Creating NumPy ndarrays:**\n",
        "At the core of NumPy is the ndarray, where nd stands for n-dimensional. An ndarray is a multidimensional array of elements all of the same type. In other words, an ndarray is a grid that can take on many shapes and can hold either numbers or strings. In many Machine Learning problems you will often find yourself using ndarrays in many different ways. For instance, you might use an ndarray to hold the pixel values of an image that will be fed into a Neural Network for image classification."
      ]
    },
    {
      "cell_type": "markdown",
      "id": "6492c60c",
      "metadata": {
        "id": "6492c60c"
      },
      "source": [
        "There are several ways to create ndarrays in NumPy. In the following lessons we will see two ways to create ndarrays:\n",
        "\n",
        "1. Using regular Python lists\n",
        "\n",
        "2. Using built-in NumPy functions"
      ]
    },
    {
      "cell_type": "code",
      "execution_count": 5,
      "id": "458bfc0d",
      "metadata": {
        "id": "458bfc0d",
        "outputId": "e9fd96dc-4807-4547-bbf3-7b69659b16e1",
        "colab": {
          "base_uri": "https://localhost:8080/"
        }
      },
      "outputs": [
        {
          "output_type": "stream",
          "name": "stdout",
          "text": [
            "x =  [1 2 3 4 5]\n"
          ]
        }
      ],
      "source": [
        "# We import NumPy into Python\n",
        "import numpy as np\n",
        "\n",
        "# We create a 1D ndarray that contains only integers\n",
        "x = np.array([1, 2, 3, 4, 5])\n",
        "\n",
        "# Let's print the ndarray we just created using the print() command\n",
        "print('x = ', x)"
      ]
    },
    {
      "cell_type": "markdown",
      "id": "87f8d471",
      "metadata": {
        "id": "87f8d471"
      },
      "source": [
        "## **Shape of an ndarray:**\n",
        "Another important property of arrays is their shape. The shape of an array is the size along each of its dimensions. "
      ]
    },
    {
      "cell_type": "code",
      "execution_count": 6,
      "id": "a0588d3c",
      "metadata": {
        "id": "a0588d3c",
        "outputId": "9eb17449-5588-48c0-f7d8-15e296e10a0d",
        "colab": {
          "base_uri": "https://localhost:8080/"
        }
      },
      "outputs": [
        {
          "output_type": "stream",
          "name": "stdout",
          "text": [
            "x =  [1 2 3 4 5]\n",
            "x has dimensions: (5,)\n",
            "x is an object of type: <class 'numpy.ndarray'>\n",
            "The elements in x are of type: int64\n"
          ]
        }
      ],
      "source": [
        "# We create a 1D ndarray that contains only integers\n",
        "x = np.array([1, 2, 3, 4, 5])\n",
        "\n",
        "# We print x\n",
        "print('x = ', x)\n",
        "\n",
        "\n",
        "# We print information about x\n",
        "print('x has dimensions:', x.shape)\n",
        "print('x is an object of type:', type(x))\n",
        "print('The elements in x are of type:', x.dtype)"
      ]
    },
    {
      "cell_type": "markdown",
      "id": "42afe8f0",
      "metadata": {
        "id": "42afe8f0"
      },
      "source": [
        "We can see that the shape attribute tells us that x is of rank 1 (i.e. x only has 1 dimension ) and it has 5 elements. \n",
        "\n",
        "The type() function tells us that x is indeed a NumPy ndarray. \n",
        "\n",
        "Finally, the .dtype attribute tells us that the elements of x are stored in memory as signed 32-bit integers. \n",
        "\n",
        "As mentioned earlier, ndarrays can also hold strings. Let's see how we can create a rank 1 ndarray of strings in the same manner as before, by providing the np.array() function a Python list of strings."
      ]
    },
    {
      "cell_type": "code",
      "execution_count": 7,
      "id": "591965b1",
      "metadata": {
        "id": "591965b1",
        "outputId": "1b00e990-91cf-4cee-f40a-3c17577cc6cf",
        "colab": {
          "base_uri": "https://localhost:8080/"
        }
      },
      "outputs": [
        {
          "output_type": "stream",
          "name": "stdout",
          "text": [
            "x =  ['Hello' 'World']\n",
            "x has dimensions: (2,)\n",
            "x is an object of type: <class 'numpy.ndarray'>\n",
            "The elements in x are of type: <U5\n"
          ]
        }
      ],
      "source": [
        "# We create a rank 1 ndarray that only contains strings\n",
        "x = np.array(['Hello', 'World'])\n",
        "\n",
        "# We print x\n",
        "print('x = ', x)\n",
        "\n",
        "# We print information about x\n",
        "print('x has dimensions:', x.shape)\n",
        "print('x is an object of type:', type(x))\n",
        "print('The elements in x are of type:', x.dtype)"
      ]
    },
    {
      "cell_type": "markdown",
      "id": "52a3a2c7",
      "metadata": {
        "id": "52a3a2c7"
      },
      "source": [
        "It is important to remember that one big difference between Python lists and ndarrays, is that unlike Python lists, all the elements of an ndarray must be of the same type. So, while we can create Python lists with both integers and strings, we can't mix types in ndarrays. If you provide the np.array() function with a Python list that has both integers and strings, NumPy will interpret all elements as strings. We can see this in the next example:"
      ]
    },
    {
      "cell_type": "code",
      "execution_count": 8,
      "id": "92b877d9",
      "metadata": {
        "id": "92b877d9",
        "outputId": "b67a44f0-83f0-42f5-97ad-10d28df85835",
        "colab": {
          "base_uri": "https://localhost:8080/"
        }
      },
      "outputs": [
        {
          "output_type": "stream",
          "name": "stdout",
          "text": [
            "x =  ['1' '2' 'World']\n",
            "x has dimensions: (3,)\n",
            "x is an object of type: <class 'numpy.ndarray'>\n",
            "The elements in x are of type: <U21\n"
          ]
        }
      ],
      "source": [
        "# We create a rank 1 ndarray from a Python list that contains integers and strings\n",
        "x = np.array([1, 2, 'World'])\n",
        "\n",
        "# We print the ndarray\n",
        "print('x = ', x)\n",
        "\n",
        "# We print information about x\n",
        "print('x has dimensions:', x.shape)\n",
        "print('x is an object of type:', type(x))\n",
        "print('The elements in x are of type:', x.dtype)"
      ]
    },
    {
      "cell_type": "markdown",
      "id": "32e5515c",
      "metadata": {
        "id": "32e5515c"
      },
      "source": [
        "## **Create rank 2 ndarray:**\n",
        "Let us now look at how we can create a rank 2 ndarray from a nested Python list."
      ]
    },
    {
      "cell_type": "code",
      "execution_count": 9,
      "id": "dac8c9cf",
      "metadata": {
        "id": "dac8c9cf",
        "outputId": "a6108ff4-307f-4097-f0c7-89b0481dd5f1",
        "colab": {
          "base_uri": "https://localhost:8080/"
        }
      },
      "outputs": [
        {
          "output_type": "stream",
          "name": "stdout",
          "text": [
            "Y = [[ 1  2  3]\n",
            " [ 4  5  6]\n",
            " [ 7  8  9]\n",
            " [10 11 12]]\n",
            "Y has dimensions: (4, 3)\n",
            "Y has a total of 12 elements\n",
            "Y is an object of type: <class 'numpy.ndarray'>\n",
            "The elements in Y are of type: int64\n"
          ]
        }
      ],
      "source": [
        "# We create a rank 2 ndarray that only contains integers\n",
        "Y = np.array([[1,2,3],[4,5,6],[7,8,9], [10,11,12]])\n",
        "\n",
        "# We print Y\n",
        "print('Y =', Y)\n",
        "\n",
        "# We print information about Y\n",
        "print('Y has dimensions:', Y.shape)\n",
        "print('Y has a total of', Y.size, 'elements')\n",
        "print('Y is an object of type:', type(Y))\n",
        "print('The elements in Y are of type:', Y.dtype)"
      ]
    },
    {
      "cell_type": "markdown",
      "id": "4aa31a3d",
      "metadata": {
        "id": "4aa31a3d"
      },
      "source": [
        "Up to now, we have only created ndarrays with integers and strings. We saw that when we create an ndarray with only integers, NumPy will automatically assign the dtype int32 to its elements. Let's see what happens when we create ndarrays with floats and integers."
      ]
    },
    {
      "cell_type": "code",
      "execution_count": 10,
      "id": "3919e61d",
      "metadata": {
        "id": "3919e61d",
        "outputId": "7333e3a9-d288-478a-b84c-11e41a71bb39",
        "colab": {
          "base_uri": "https://localhost:8080/"
        }
      },
      "outputs": [
        {
          "output_type": "stream",
          "name": "stdout",
          "text": [
            "The elements in x are of type: int64\n",
            "The elements in y are of type: float64\n",
            "The elements in z are of type: float64\n"
          ]
        }
      ],
      "source": [
        "# We create a rank 1 ndarray that contains integers\n",
        "x = np.array([1,2,3])\n",
        "\n",
        "# We create a rank 1 ndarray that contains floats\n",
        "y = np.array([1.0,2.0,3.0])\n",
        "\n",
        "# We create a rank 1 ndarray that contains integers and floats\n",
        "z = np.array([1, 2.5, 4])\n",
        "\n",
        "# We print the dtype of each ndarray\n",
        "print('The elements in x are of type:', x.dtype)\n",
        "print('The elements in y are of type:', y.dtype)\n",
        "print('The elements in z are of type:', z.dtype)"
      ]
    },
    {
      "cell_type": "markdown",
      "id": "74c0dc44",
      "metadata": {
        "id": "74c0dc44"
      },
      "source": [
        "Even though NumPy automatically selects the dtype of the ndarray, NumPy also allows you to specify the particular dtype you want to assign to the elements of the ndarray. You can specify the dtype when you create the ndarray using the keyword dtype in the np.array() function. Let's see an example:"
      ]
    },
    {
      "cell_type": "code",
      "execution_count": 11,
      "id": "30404e30",
      "metadata": {
        "id": "30404e30",
        "outputId": "3644d91b-b5f5-4b59-df2e-406feecc9c52",
        "colab": {
          "base_uri": "https://localhost:8080/"
        }
      },
      "outputs": [
        {
          "output_type": "stream",
          "name": "stdout",
          "text": [
            "x =  [1 2 3 4 5]\n",
            "The elements in x are of type: int64\n"
          ]
        }
      ],
      "source": [
        "# We create a rank 1 ndarray of floats but set the dtype to int64\n",
        "x = np.array([1.5, 2.2, 3.7, 4.0, 5.9], dtype = np.int64)\n",
        "\n",
        "# We print x\n",
        "print('x = ', x)\n",
        "\n",
        "# We print the dtype x\n",
        "print('The elements in x are of type:', x.dtype)"
      ]
    },
    {
      "cell_type": "markdown",
      "id": "b4577c76",
      "metadata": {
        "id": "b4577c76"
      },
      "source": [
        "## **Specialized ndarrays:**"
      ]
    },
    {
      "cell_type": "markdown",
      "id": "de6b4a35",
      "metadata": {
        "id": "de6b4a35"
      },
      "source": [
        "One great time-saving feature of NumPy is its ability to create ndarrays using built-in functions. These functions allow us to create certain kinds of ndarrays with just one line of code. Below we will see a few of the most useful built-in functions for creating ndarrays that you will come across when doing AI programming.\n",
        "\n",
        "### **np.zeros():**\n",
        "\n",
        "Let's start by creating an ndarray with a specified shape that is full of zeros. We can do this by using the np.zeros() function. The function np.zeros(shape) creates an ndarray full of zeros with the given shape. So, for example, if you wanted to create a rank 2 array with 3 rows and 4 columns, you will pass the shape to the function in the form of (rows, columns), as in the example below:"
      ]
    },
    {
      "cell_type": "code",
      "execution_count": 12,
      "id": "2fec02d8",
      "metadata": {
        "id": "2fec02d8",
        "outputId": "f11fb922-8400-4a07-d611-8db2557cff5d",
        "colab": {
          "base_uri": "https://localhost:8080/"
        }
      },
      "outputs": [
        {
          "output_type": "stream",
          "name": "stdout",
          "text": [
            "X = \n",
            " [[0. 0. 0. 0.]\n",
            " [0. 0. 0. 0.]\n",
            " [0. 0. 0. 0.]]\n",
            "X has dimensions: (3, 4)\n",
            "X is an object of type: <class 'numpy.ndarray'>\n",
            "The elements in X are of type: float64\n"
          ]
        }
      ],
      "source": [
        "# We create a 3 x 4 ndarray full of zeros. \n",
        "X = np.zeros((3,4))\n",
        "\n",
        "# We print X\n",
        "print('X = \\n', X)\n",
        "\n",
        "# We print information about X\n",
        "print('X has dimensions:', X.shape)\n",
        "print('X is an object of type:', type(X))\n",
        "print('The elements in X are of type:', X.dtype)\n"
      ]
    },
    {
      "cell_type": "markdown",
      "id": "381175e2",
      "metadata": {
        "id": "381175e2"
      },
      "source": [
        "> As we can see, the np.zeros() function creates by default an array with dtype float64. If desired, the data type can be changed by using the keyword dtype.\n",
        "\n",
        "### **np.ones:**\n",
        "\n",
        "Similarly, we can create an ndarray with a specified shape that is full of ones. We can do this by using the np.ones() function. Just like the np.zeros() function, the np.ones() function takes as an argument the shape of the ndarray you want to make. Let's see an example:"
      ]
    },
    {
      "cell_type": "code",
      "execution_count": 13,
      "id": "23af0911",
      "metadata": {
        "id": "23af0911",
        "outputId": "6b276069-75e0-4163-fdcf-c0fc973a4200",
        "colab": {
          "base_uri": "https://localhost:8080/"
        }
      },
      "outputs": [
        {
          "output_type": "stream",
          "name": "stdout",
          "text": [
            "\n",
            "X = \n",
            " [[1. 1.]\n",
            " [1. 1.]\n",
            " [1. 1.]]\n",
            "\n",
            "X has dimensions: (3, 2)\n",
            "X is an object of type: <class 'numpy.ndarray'>\n",
            "The elements in X are of type: float64\n"
          ]
        }
      ],
      "source": [
        "# We create a 3 x 2 ndarray full of ones. \n",
        "X = np.ones((3,2))\n",
        "\n",
        "# We print X\n",
        "print()\n",
        "print('X = \\n', X)\n",
        "print()\n",
        "\n",
        "# We print information about X\n",
        "print('X has dimensions:', X.shape)\n",
        "print('X is an object of type:', type(X))\n",
        "print('The elements in X are of type:', X.dtype) "
      ]
    },
    {
      "cell_type": "markdown",
      "id": "b255db11",
      "metadata": {
        "id": "b255db11"
      },
      "source": [
        "### **np.full():**\n",
        "We can also create an ndarray with a specified shape that is full of any number we want. We can do this by using the np.full() function. The np.full(shape, constant value) function takes two arguments. The first argument is the shape of the ndarray you want to make and the second is the constant value you want to populate the array with. Let's see an example:"
      ]
    },
    {
      "cell_type": "code",
      "execution_count": 14,
      "id": "e25a05f6",
      "metadata": {
        "id": "e25a05f6",
        "outputId": "031907f6-0148-4a44-df3c-4a22c1d6cffe",
        "colab": {
          "base_uri": "https://localhost:8080/"
        }
      },
      "outputs": [
        {
          "output_type": "stream",
          "name": "stdout",
          "text": [
            "\n",
            "X = \n",
            " [[5 5 5]\n",
            " [5 5 5]]\n",
            "\n",
            "X has dimensions: (2, 3)\n",
            "X is an object of type: <class 'numpy.ndarray'>\n",
            "The elements in X are of type: int64\n"
          ]
        }
      ],
      "source": [
        "# We create a 2 x 3 ndarray full of fives. \n",
        "X = np.full((2,3), 5) \n",
        "\n",
        "# We print X\n",
        "print()\n",
        "print('X = \\n', X)\n",
        "print()\n",
        "\n",
        "# We print information about X\n",
        "print('X has dimensions:', X.shape)\n",
        "print('X is an object of type:', type(X))\n",
        "print('The elements in X are of type:', X.dtype)"
      ]
    },
    {
      "cell_type": "markdown",
      "id": "2a21aade",
      "metadata": {
        "id": "2a21aade"
      },
      "source": [
        "### **np.eye():**\n",
        "An Identity matrix is a square matrix that has only 1s in its main diagonal and zeros everywhere else. The function np.eye(N) creates a square N x N ndarray corresponding to the Identity matrix. Since all Identity Matrices are square, the np.eye() function only takes a single integer as an argument. Let's see an example:"
      ]
    },
    {
      "cell_type": "code",
      "execution_count": 15,
      "id": "d588ecb2",
      "metadata": {
        "id": "d588ecb2",
        "outputId": "fee26b87-2a79-461c-bc0d-d4d4dcd3c330",
        "colab": {
          "base_uri": "https://localhost:8080/"
        }
      },
      "outputs": [
        {
          "output_type": "stream",
          "name": "stdout",
          "text": [
            "\n",
            "X = \n",
            " [[1. 0. 0. 0. 0.]\n",
            " [0. 1. 0. 0. 0.]\n",
            " [0. 0. 1. 0. 0.]\n",
            " [0. 0. 0. 1. 0.]\n",
            " [0. 0. 0. 0. 1.]]\n",
            "\n",
            "X has dimensions: (5, 5)\n",
            "X is an object of type: <class 'numpy.ndarray'>\n",
            "The elements in X are of type: float64\n"
          ]
        }
      ],
      "source": [
        "# We create a 5 x 5 Identity matrix. \n",
        "X = np.eye(5)\n",
        "\n",
        "# We print X\n",
        "print()\n",
        "print('X = \\n', X)\n",
        "print()\n",
        "\n",
        "# We print information about X\n",
        "print('X has dimensions:', X.shape)\n",
        "print('X is an object of type:', type(X))\n",
        "print('The elements in X are of type:', X.dtype)  "
      ]
    },
    {
      "cell_type": "markdown",
      "id": "e9733836",
      "metadata": {
        "id": "e9733836"
      },
      "source": [
        "### **np.diag():**\n",
        "We can also create diagonal matrices by using the np.diag() function. A diagonal matrix is a square matrix that only has values in its main diagonal. The np.diag() function creates an ndarray corresponding to a diagonal matrix , as shown in the example below:"
      ]
    },
    {
      "cell_type": "code",
      "execution_count": 16,
      "id": "23d00d32",
      "metadata": {
        "id": "23d00d32",
        "outputId": "2e41eb87-4969-40c4-f85e-dd31dba86c32",
        "colab": {
          "base_uri": "https://localhost:8080/"
        }
      },
      "outputs": [
        {
          "output_type": "stream",
          "name": "stdout",
          "text": [
            "\n",
            "X = \n",
            " [[10  0  0  0]\n",
            " [ 0 20  0  0]\n",
            " [ 0  0 30  0]\n",
            " [ 0  0  0 50]]\n",
            "\n"
          ]
        }
      ],
      "source": [
        "# Create a 4 x 4 diagonal matrix\n",
        "# on its main diagonal\n",
        "X = np.diag([10,20,30,50])\n",
        "\n",
        "# We print X\n",
        "print()\n",
        "print('X = \\n', X)\n",
        "print()"
      ]
    },
    {
      "cell_type": "markdown",
      "id": "ce0c96f4",
      "metadata": {
        "id": "ce0c96f4"
      },
      "source": [
        "### **np.arange():**\n",
        "NumPy also allows you to create ndarrays that have evenly spaced values within a given interval. NumPy's np.arange() function is very versatile and can be used with either one, two, or three arguments. Below we will see examples of each case and how they are used to create different kinds of ndarrays.\n",
        "\n",
        "Let's start by using np.arange() with only one argument. When used with only one argument, np.arange(N) will create a rank 1 ndarray with consecutive integers between 0 and N - 1. "
      ]
    },
    {
      "cell_type": "code",
      "execution_count": 17,
      "id": "70742bb7",
      "metadata": {
        "id": "70742bb7",
        "outputId": "b9b20c65-04b7-432b-f1d9-59a22addbd2e",
        "colab": {
          "base_uri": "https://localhost:8080/"
        }
      },
      "outputs": [
        {
          "output_type": "stream",
          "name": "stdout",
          "text": [
            "\n",
            "x =  [0 1 2 3 4 5 6 7 8 9]\n",
            "\n",
            "x has dimensions: (10,)\n",
            "x is an object of type: <class 'numpy.ndarray'>\n",
            "The elements in x are of type: int64\n"
          ]
        }
      ],
      "source": [
        "# We create a rank 1 ndarray that has sequential integers from 0 to 9\n",
        "x = np.arange(10)\n",
        "\n",
        "# We print the ndarray\n",
        "print()\n",
        "print('x = ', x)\n",
        "print()\n",
        "\n",
        "# We print information about the ndarray\n",
        "print('x has dimensions:', x.shape)\n",
        "print('x is an object of type:', type(x))\n",
        "print('The elements in x are of type:', x.dtype) "
      ]
    },
    {
      "cell_type": "markdown",
      "id": "6f518b1b",
      "metadata": {
        "id": "6f518b1b"
      },
      "source": [
        "When used with two arguments, np.arange(start,stop) will create a rank 1 ndarray with evenly spaced values within the half-open interval [start, stop). This means the evenly spaced numbers will include start but exclude stop. Let's see an example"
      ]
    },
    {
      "cell_type": "code",
      "execution_count": 18,
      "id": "b49bea9f",
      "metadata": {
        "id": "b49bea9f",
        "outputId": "73aaf22f-6715-4f8c-a205-1b991f921d3c",
        "colab": {
          "base_uri": "https://localhost:8080/"
        }
      },
      "outputs": [
        {
          "output_type": "stream",
          "name": "stdout",
          "text": [
            "\n",
            "x =  [4 5 6 7 8 9]\n",
            "\n",
            "x has dimensions: (6,)\n",
            "x is an object of type: <class 'numpy.ndarray'>\n",
            "The elements in x are of type: int64\n"
          ]
        }
      ],
      "source": [
        "# We create a rank 1 ndarray that has sequential integers from 4 to 9. \n",
        "x = np.arange(4,10)\n",
        "\n",
        "# We print the ndarray\n",
        "print()\n",
        "print('x = ', x)\n",
        "print()\n",
        "\n",
        "# We print information about the ndarray\n",
        "print('x has dimensions:', x.shape)\n",
        "print('x is an object of type:', type(x))\n",
        "print('The elements in x are of type:', x.dtype) "
      ]
    },
    {
      "cell_type": "markdown",
      "id": "538f0e54",
      "metadata": {
        "id": "538f0e54"
      },
      "source": [
        "Finally, when used with three arguments, np.arange(start,stop,step) will create a rank 1 ndarray with evenly spaced values within the half-open interval [start, stop) with step being the distance between two adjacent values. Let's see an example:"
      ]
    },
    {
      "cell_type": "code",
      "execution_count": 19,
      "id": "b9b9632e",
      "metadata": {
        "id": "b9b9632e",
        "outputId": "1961a60e-e966-4fb6-e124-4e634f5d149e",
        "colab": {
          "base_uri": "https://localhost:8080/"
        }
      },
      "outputs": [
        {
          "output_type": "stream",
          "name": "stdout",
          "text": [
            "\n",
            "x =  [ 1  4  7 10 13]\n",
            "\n",
            "x has dimensions: (5,)\n",
            "x is an object of type: <class 'numpy.ndarray'>\n",
            "The elements in x are of type: int64\n"
          ]
        }
      ],
      "source": [
        "# We create a rank 1 ndarray that has evenly spaced \n",
        "# integers from 1 to 13 in steps of 3.\n",
        "x = np.arange(1,14,3)\n",
        "\n",
        "# We print the ndarray\n",
        "print()\n",
        "print('x = ', x)\n",
        "print()\n",
        "\n",
        "# We print information about the ndarray\n",
        "print('x has dimensions:', x.shape)\n",
        "print('x is an object of type:', type(x))\n",
        "print('The elements in x are of type:', x.dtype) "
      ]
    },
    {
      "cell_type": "markdown",
      "id": "8ad29cda",
      "metadata": {
        "id": "8ad29cda"
      },
      "source": [
        "## **np.reshape():**\n",
        "So far, we have only used the built-in function np.arange() to create rank 1 ndarrays. However, we can use this function to create rank 2 ndarrays of any shape by combining them with the np.reshape() function. The np.reshape(ndarray, new_shape) function converts the given ndarray into the specified new_shape. It is important to note that the new_shape should be compatible with the number of elements in the given ndarray."
      ]
    },
    {
      "cell_type": "code",
      "execution_count": 20,
      "id": "877f730b",
      "metadata": {
        "id": "877f730b",
        "outputId": "fb259a21-6a77-48e6-c53f-521ce217fcc7",
        "colab": {
          "base_uri": "https://localhost:8080/"
        }
      },
      "outputs": [
        {
          "output_type": "stream",
          "name": "stdout",
          "text": [
            "\n",
            "Original x =  [ 0  1  2  3  4  5  6  7  8  9 10 11 12 13 14 15 16 17 18 19]\n",
            "\n",
            "\n",
            "Reshaped x = \n",
            " [[ 0  1  2  3  4]\n",
            " [ 5  6  7  8  9]\n",
            " [10 11 12 13 14]\n",
            " [15 16 17 18 19]]\n",
            "\n",
            "x has dimensions: (4, 5)\n",
            "x is an object of type: <class 'numpy.ndarray'>\n",
            "The elements in x are of type: int64\n"
          ]
        }
      ],
      "source": [
        "# We create a rank 1 ndarray with sequential integers from 0 to 19\n",
        "x = np.arange(20)\n",
        "\n",
        "# We print x\n",
        "print()\n",
        "print('Original x = ', x)\n",
        "print()\n",
        "\n",
        "# We reshape x into a 4 x 5 ndarray \n",
        "x = np.reshape(x, (4,5))\n",
        "\n",
        "# We print the reshaped x\n",
        "print()\n",
        "print('Reshaped x = \\n', x)\n",
        "print()\n",
        "\n",
        "# We print information about the reshaped x\n",
        "print('x has dimensions:', x.shape)\n",
        "print('x is an object of type:', type(x))\n",
        "print('The elements in x are of type:', x.dtype) "
      ]
    },
    {
      "cell_type": "markdown",
      "id": "35f6e49e",
      "metadata": {
        "id": "35f6e49e"
      },
      "source": [
        "One great feature about NumPy, is that some functions can also be applied as methods. This allows us to apply different functions in sequence in just one line of code. ndarray methods are similar to ndarray attributes in that they are both applied using dot notation (.). Let's see how we can accomplish the same result as in the above example, but in just one line of code:"
      ]
    },
    {
      "cell_type": "code",
      "execution_count": 21,
      "id": "385b63b7",
      "metadata": {
        "id": "385b63b7",
        "outputId": "1b6e3f67-5276-45a5-dfbc-7790eca7b6f6",
        "colab": {
          "base_uri": "https://localhost:8080/"
        }
      },
      "outputs": [
        {
          "output_type": "stream",
          "name": "stdout",
          "text": [
            "\n",
            "Y = \n",
            " [[ 0  1  2  3  4]\n",
            " [ 5  6  7  8  9]\n",
            " [10 11 12 13 14]\n",
            " [15 16 17 18 19]]\n",
            "\n",
            "Y has dimensions: (4, 5)\n",
            "Y is an object of type: <class 'numpy.ndarray'>\n",
            "The elements in Y are of type: int64\n"
          ]
        }
      ],
      "source": [
        "# We create a a rank 1 ndarray with sequential integers from 0 to 19 and\n",
        "# reshape it to a 4 x 5 array \n",
        "Y = np.arange(20).reshape(4, 5)\n",
        "\n",
        "# We print Y\n",
        "print()\n",
        "print('Y = \\n', Y)\n",
        "print()\n",
        "\n",
        "# We print information about Y\n",
        "print('Y has dimensions:', Y.shape)\n",
        "print('Y is an object of type:', type(Y))\n",
        "print('The elements in Y are of type:', Y.dtype)"
      ]
    },
    {
      "cell_type": "markdown",
      "id": "44b9e59b",
      "metadata": {
        "id": "44b9e59b"
      },
      "source": [
        "## **Random:**\n",
        "The last type of ndarrays we are going to create are random ndarrays. Random ndarrays are arrays that contain random numbers. Often in Machine Learning, you need to create random matrices, for example, when initializing the weights of a Neural Network. NumPy offers a variety of random functions to help us create random ndarrays of any shape."
      ]
    },
    {
      "cell_type": "code",
      "execution_count": 22,
      "id": "9eb16870",
      "metadata": {
        "id": "9eb16870",
        "outputId": "e66cae0f-5677-47d3-d0ef-c6ed19114224",
        "colab": {
          "base_uri": "https://localhost:8080/"
        }
      },
      "outputs": [
        {
          "output_type": "stream",
          "name": "stdout",
          "text": [
            "\n",
            "X = \n",
            " [[0.43314169 0.27139418 0.94851834]\n",
            " [0.03897753 0.22885941 0.93010306]\n",
            " [0.75041919 0.33971116 0.80536853]]\n",
            "\n",
            "X has dimensions: (3, 3)\n",
            "X is an object of type: <class 'numpy.ndarray'>\n",
            "The elements in x are of type: float64\n"
          ]
        }
      ],
      "source": [
        "# We create a 3 x 3 ndarray with random floats in the half-open interval [0.0, 1.0).\n",
        "X = np.random.random((3,3))\n",
        "\n",
        "# We print X\n",
        "print()\n",
        "print('X = \\n', X)\n",
        "print()\n",
        "\n",
        "# We print information about X\n",
        "print('X has dimensions:', X.shape)\n",
        "print('X is an object of type:', type(X))\n",
        "print('The elements in x are of type:', X.dtype)"
      ]
    },
    {
      "cell_type": "markdown",
      "id": "8e1dc236",
      "metadata": {
        "id": "8e1dc236"
      },
      "source": [
        "NumPy also allows us to create ndarrays with random integers within a particular interval. The function np.random.randint(start, stop, size = shape) creates an ndarray of the given shape with random integers in the half-open interval [start, stop). Let's see an example:"
      ]
    },
    {
      "cell_type": "code",
      "execution_count": 23,
      "id": "762c5367",
      "metadata": {
        "id": "762c5367",
        "outputId": "c189bb0c-4485-47c4-c054-a9ecee2ee417",
        "colab": {
          "base_uri": "https://localhost:8080/"
        }
      },
      "outputs": [
        {
          "output_type": "stream",
          "name": "stdout",
          "text": [
            "\n",
            "X = \n",
            " [[12 12]\n",
            " [ 7  7]\n",
            " [10  5]]\n",
            "\n",
            "X has dimensions: (3, 2)\n",
            "X is an object of type: <class 'numpy.ndarray'>\n",
            "The elements in X are of type: int64\n"
          ]
        }
      ],
      "source": [
        "# We create a 3 x 2 ndarray with random integers in the half-open interval [4, 15).\n",
        "X = np.random.randint(4,15,size=(3,2))\n",
        "\n",
        "# We print X\n",
        "print()\n",
        "print('X = \\n', X)\n",
        "print()\n",
        "\n",
        "# We print information about X\n",
        "print('X has dimensions:', X.shape)\n",
        "print('X is an object of type:', type(X))\n",
        "print('The elements in X are of type:', X.dtype)"
      ]
    },
    {
      "cell_type": "markdown",
      "id": "b85aa0ff",
      "metadata": {
        "id": "b85aa0ff"
      },
      "source": [
        "In some cases, you may need to create ndarrays with random numbers that satisfy certain statistical properties. For example, you may want the random numbers in the ndarray to have an average of 0. NumPy allows you create random ndarrays with numbers drawn from various probability distributions. The function np.random.normal(mean, standard deviation, size=shape), for example, creates an ndarray with the given shape that contains random numbers picked from a normal (Gaussian) distribution with the given mean and standard deviation."
      ]
    },
    {
      "cell_type": "code",
      "execution_count": 24,
      "id": "cb9ec708",
      "metadata": {
        "id": "cb9ec708",
        "outputId": "987e2721-421f-4390-bb26-b574e38a799a",
        "colab": {
          "base_uri": "https://localhost:8080/"
        }
      },
      "outputs": [
        {
          "output_type": "stream",
          "name": "stdout",
          "text": [
            "\n",
            "X = \n",
            " [[-0.03875336  0.08073096  0.03622872 ...  0.18225367  0.01149094\n",
            "   0.10828404]\n",
            " [ 0.0592094  -0.13436635  0.04841908 ... -0.06459717 -0.02043496\n",
            "   0.01042926]\n",
            " [-0.0142598   0.17338978 -0.26950734 ... -0.0822932  -0.02057797\n",
            "   0.11088621]\n",
            " ...\n",
            " [ 0.0568178   0.10659371  0.07803188 ... -0.1661798  -0.08811202\n",
            "  -0.02624355]\n",
            " [-0.10593437  0.17758908  0.00817352 ...  0.12504754 -0.14431578\n",
            "  -0.00954246]\n",
            " [ 0.08164821 -0.09332013  0.03459318 ...  0.03437887 -0.02324869\n",
            "   0.07350354]]\n",
            "\n",
            "X has dimensions: (1000, 1000)\n",
            "X is an object of type: <class 'numpy.ndarray'>\n",
            "The elements in X are of type: float64\n",
            "The elements in X have a mean of: 8.128941379007478e-05\n",
            "The maximum value in X is: 0.4648454095989258\n",
            "The minimum value in X is: -0.46238184886246114\n",
            "X has 499443 negative numbers\n",
            "X has 500557 positive numbers\n"
          ]
        }
      ],
      "source": [
        "# We create a 1000 x 1000 ndarray of random floats drawn from normal (Gaussian) distribution\n",
        "# with a mean of zero and a standard deviation of 0.1.\n",
        "X = np.random.normal(0, 0.1, size=(1000,1000))\n",
        "\n",
        "# We print X\n",
        "print()\n",
        "print('X = \\n', X)\n",
        "print()\n",
        "\n",
        "# We print information about X\n",
        "print('X has dimensions:', X.shape)\n",
        "print('X is an object of type:', type(X))\n",
        "print('The elements in X are of type:', X.dtype)\n",
        "print('The elements in X have a mean of:', X.mean())\n",
        "print('The maximum value in X is:', X.max())\n",
        "print('The minimum value in X is:', X.min())\n",
        "print('X has', (X < 0).sum(), 'negative numbers')\n",
        "print('X has', (X > 0).sum(), 'positive numbers')"
      ]
    },
    {
      "cell_type": "markdown",
      "id": "00bde66b",
      "metadata": {
        "id": "00bde66b"
      },
      "source": [
        "## **Accessing Elements in ndarays:**\n",
        "Elements can be accessed using indices inside square brackets, [ ]. NumPy allows you to use both positive and negative indices to access elements in the ndarray. Positive indices are used to access elements from the beginning of the array, while negative indices are used to access elements from the end of the array. "
      ]
    },
    {
      "cell_type": "code",
      "execution_count": 25,
      "id": "348d40fc",
      "metadata": {
        "id": "348d40fc",
        "outputId": "91a908a9-0204-477d-cdcf-7703ce07fcd4",
        "colab": {
          "base_uri": "https://localhost:8080/"
        }
      },
      "outputs": [
        {
          "output_type": "stream",
          "name": "stdout",
          "text": [
            "\n",
            "x =  [1 2 3 4 5]\n",
            "\n",
            "This is First Element in x: 1\n",
            "This is Second Element in x: 2\n",
            "This is Fifth (Last) Element in x: 5\n",
            "\n",
            "This is First Element in x: 1\n",
            "This is Second Element in x: 2\n",
            "This is Fifth (Last) Element in x: 5\n"
          ]
        }
      ],
      "source": [
        "# We create a rank 1 ndarray that contains integers from 1 to 5\n",
        "x = np.array([1, 2, 3, 4, 5])\n",
        "\n",
        "# We print x\n",
        "print()\n",
        "print('x = ', x)\n",
        "print()\n",
        "\n",
        "# Let's access some elements with positive indices\n",
        "print('This is First Element in x:', x[0]) \n",
        "print('This is Second Element in x:', x[1])\n",
        "print('This is Fifth (Last) Element in x:', x[4])\n",
        "print()\n",
        "\n",
        "# Let's access the same elements with negative indices\n",
        "print('This is First Element in x:', x[-5])\n",
        "print('This is Second Element in x:', x[-4])\n",
        "print('This is Fifth (Last) Element in x:', x[-1])"
      ]
    },
    {
      "cell_type": "markdown",
      "id": "eb945d80",
      "metadata": {
        "id": "eb945d80"
      },
      "source": [
        "## Modifying ndarrays:\n",
        "Now let's see how we can change the elements in rank 1 ndarrays. We do this by accessing the element we want to change and then using the = sign to assign the new value:"
      ]
    },
    {
      "cell_type": "code",
      "execution_count": 26,
      "id": "fb940f93",
      "metadata": {
        "id": "fb940f93",
        "outputId": "4dc254b2-84a4-4885-f325-bc7ebebb7b0f",
        "colab": {
          "base_uri": "https://localhost:8080/"
        }
      },
      "outputs": [
        {
          "output_type": "stream",
          "name": "stdout",
          "text": [
            "\n",
            "Original:\n",
            " x =  [1 2 3 4 5]\n",
            "\n",
            "Modified:\n",
            " x =  [ 1  2  3 20  5]\n"
          ]
        }
      ],
      "source": [
        "# We create a rank 1 ndarray that contains integers from 1 to 5\n",
        "x = np.array([1, 2, 3, 4, 5])\n",
        "\n",
        "# We print the original x\n",
        "print()\n",
        "print('Original:\\n x = ', x)\n",
        "print()\n",
        "\n",
        "# We change the fourth element in x from 4 to 20\n",
        "x[3] = 20\n",
        "\n",
        "# We print x after it was modified \n",
        "print('Modified:\\n x = ', x)\n"
      ]
    },
    {
      "cell_type": "markdown",
      "id": "461bf0f6",
      "metadata": {
        "id": "461bf0f6"
      },
      "source": [
        "Similarly, we can also access and modify specific elements of rank 2 ndarrays. To access elements in rank 2 ndarrays we need to provide 2 indices in the form [row, column]. Let's see some examples"
      ]
    },
    {
      "cell_type": "code",
      "execution_count": 29,
      "id": "9e05ce39",
      "metadata": {
        "id": "9e05ce39",
        "outputId": "26c4e932-0f4e-4ddb-ead4-56fa134567fd",
        "colab": {
          "base_uri": "https://localhost:8080/"
        }
      },
      "outputs": [
        {
          "output_type": "stream",
          "name": "stdout",
          "text": [
            "\n",
            "X = \n",
            " [[1 2 3]\n",
            " [4 5 6]\n",
            " [7 8 9]]\n",
            "\n",
            "This is (0,0) Element in X: 1\n",
            "This is (0,1) Element in X: 2\n",
            "This is (2,2) Element in X: 9\n"
          ]
        }
      ],
      "source": [
        "# We create a 3 x 3 rank 2 ndarray that contains integers from 1 to 9\n",
        "X = np.array([[1,2,3],[4,5,6],[7,8,9]])\n",
        "\n",
        "# We print X\n",
        "print()\n",
        "print('X = \\n', X)\n",
        "print()\n",
        "\n",
        "# Let's access some elements in X\n",
        "print('This is (0,0) Element in X:', X[0,0])\n",
        "print('This is (0,1) Element in X:', X[0,1])\n",
        "print('This is (2,2) Element in X:', X[2,2])"
      ]
    },
    {
      "cell_type": "markdown",
      "id": "3bb21c37",
      "metadata": {
        "id": "3bb21c37"
      },
      "source": [
        "Elements in rank 2 ndarrays can be modified in the same way as with rank 1 ndarrays. Let's see an example:"
      ]
    },
    {
      "cell_type": "code",
      "execution_count": 30,
      "id": "14914373",
      "metadata": {
        "id": "14914373",
        "outputId": "125b4921-1d62-4a72-ce2a-17943876452a",
        "colab": {
          "base_uri": "https://localhost:8080/"
        }
      },
      "outputs": [
        {
          "output_type": "stream",
          "name": "stdout",
          "text": [
            "\n",
            "Original:\n",
            " X = \n",
            " [[1 2 3]\n",
            " [4 5 6]\n",
            " [7 8 9]]\n",
            "\n",
            "Modified:\n",
            " X = \n",
            " [[20  2  3]\n",
            " [ 4  5  6]\n",
            " [ 7  8  9]]\n"
          ]
        }
      ],
      "source": [
        "# We create a 3 x 3 rank 2 ndarray that contains integers from 1 to 9\n",
        "X = np.array([[1,2,3],[4,5,6],[7,8,9]])\n",
        "\n",
        "# We print the original x\n",
        "print()\n",
        "print('Original:\\n X = \\n', X)\n",
        "print()\n",
        "\n",
        "# We change the (0,0) element in X from 1 to 20\n",
        "X[0,0] = 20\n",
        "\n",
        "# We print X after it was modified \n",
        "print('Modified:\\n X = \\n', X)\n"
      ]
    },
    {
      "cell_type": "markdown",
      "id": "6bbfeb19",
      "metadata": {
        "id": "6bbfeb19"
      },
      "source": [
        "## **Adding and Deleting elements:**\n",
        "Now, let's take a look at how we can add and delete elements from ndarrays. We can delete elements using the np.delete(ndarray, elements, axis) function. This function deletes the given list of elements from the given ndarray along the specified axis. For rank 1 ndarrays the axis keyword is not required. For rank 2 ndarrays, axis = 0 is used to select rows, and axis = 1 is used to select columns. Let's see some examples:"
      ]
    },
    {
      "cell_type": "code",
      "execution_count": 32,
      "id": "2a3e949f",
      "metadata": {
        "id": "2a3e949f",
        "outputId": "bc056365-7585-40b8-d256-ac7070a0abd0",
        "colab": {
          "base_uri": "https://localhost:8080/"
        }
      },
      "outputs": [
        {
          "output_type": "stream",
          "name": "stdout",
          "text": [
            "\n",
            "Original x =  [1 2 3 4 5]\n",
            "\n",
            "Modified x =  [2 3 4]\n",
            "\n",
            "Original Y = \n",
            " [[1 2 3]\n",
            " [4 5 6]\n",
            " [7 8 9]]\n",
            "\n",
            "w = \n",
            " [[4 5 6]\n",
            " [7 8 9]]\n",
            "\n",
            "v = \n",
            " [[2]\n",
            " [5]\n",
            " [8]]\n"
          ]
        }
      ],
      "source": [
        "# We create a rank 1 ndarray \n",
        "x = np.array([1, 2, 3, 4, 5])\n",
        "\n",
        "# We create a rank 2 ndarray\n",
        "Y = np.array([[1,2,3],[4,5,6],[7,8,9]])\n",
        "\n",
        "# We print x\n",
        "print()\n",
        "print('Original x = ', x)\n",
        "\n",
        "# We delete the first and last element of x\n",
        "x = np.delete(x, [0,4])\n",
        "\n",
        "# We print x with the first and last element deleted\n",
        "print()\n",
        "print('Modified x = ', x)\n",
        "\n",
        "# We print Y\n",
        "print()\n",
        "print('Original Y = \\n', Y)\n",
        "\n",
        "# We delete the first row of y\n",
        "w = np.delete(Y, 0, axis=0)\n",
        "\n",
        "# We delete the first and last column of y\n",
        "v = np.delete(Y, [0,2], axis=1)\n",
        "\n",
        "# We print w\n",
        "print()\n",
        "print('w = \\n', w)\n",
        "\n",
        "# We print v\n",
        "print()\n",
        "print('v = \\n', v)"
      ]
    },
    {
      "cell_type": "markdown",
      "id": "f342781d",
      "metadata": {
        "id": "f342781d"
      },
      "source": [
        "We can append values to ndarrays using the np.append(ndarray, elements, axis) function. This function appends the given list of elements to ndarray along the specified axis. Let's see some examples:"
      ]
    },
    {
      "cell_type": "code",
      "execution_count": 33,
      "id": "b0074a56",
      "metadata": {
        "id": "b0074a56",
        "outputId": "a4fb5341-567e-49f3-cd75-76ad23880524",
        "colab": {
          "base_uri": "https://localhost:8080/"
        }
      },
      "outputs": [
        {
          "output_type": "stream",
          "name": "stdout",
          "text": [
            "\n",
            "Original x =  [1 2 3 4 5]\n",
            "\n",
            "x =  [1 2 3 4 5 6]\n",
            "\n",
            "x =  [1 2 3 4 5 6 7 8]\n",
            "\n",
            "Original Y = \n",
            " [[1 2 3]\n",
            " [4 5 6]]\n",
            "\n",
            "v = \n",
            " [[1 2 3]\n",
            " [4 5 6]\n",
            " [7 8 9]]\n",
            "\n",
            "q = \n",
            " [[ 1  2  3  9]\n",
            " [ 4  5  6 10]]\n"
          ]
        }
      ],
      "source": [
        "# We create a rank 1 ndarray \n",
        "x = np.array([1, 2, 3, 4, 5])\n",
        "\n",
        "# We create a rank 2 ndarray \n",
        "Y = np.array([[1,2,3],[4,5,6]])\n",
        "\n",
        "# We print x\n",
        "print()\n",
        "print('Original x = ', x)\n",
        "\n",
        "# We append the integer 6 to x\n",
        "x = np.append(x, 6)\n",
        "\n",
        "# We print x\n",
        "print()\n",
        "print('x = ', x)\n",
        "\n",
        "# We append the integer 7 and 8 to x\n",
        "x = np.append(x, [7,8])\n",
        "\n",
        "# We print x\n",
        "print()\n",
        "print('x = ', x)\n",
        "\n",
        "# We print Y\n",
        "print()\n",
        "print('Original Y = \\n', Y)\n",
        "\n",
        "# We append a new row containing 7,8,9 to y\n",
        "v = np.append(Y, [[7,8,9]], axis=0)\n",
        "\n",
        "# We append a new column containing 9 and 10 to y\n",
        "q = np.append(Y,[[9],[10]], axis=1)\n",
        "\n",
        "# We print v\n",
        "print()\n",
        "print('v = \\n', v)\n",
        "\n",
        "# We print q\n",
        "print()\n",
        "print('q = \\n', q)"
      ]
    },
    {
      "cell_type": "markdown",
      "id": "a02de787",
      "metadata": {
        "id": "a02de787"
      },
      "source": [
        "Now let's see now how we can insert values to ndarrays. We can insert values to ndarrays using the np.insert(ndarray, index, elements, axis) function. This function inserts the given list of elements to ndarray right before the given index along the specified axis. Let's see some examples:"
      ]
    },
    {
      "cell_type": "code",
      "execution_count": 34,
      "id": "8ba905d6",
      "metadata": {
        "id": "8ba905d6",
        "outputId": "c8685b04-cd5b-43e9-bbaf-4252a5c36d6c",
        "colab": {
          "base_uri": "https://localhost:8080/"
        }
      },
      "outputs": [
        {
          "output_type": "stream",
          "name": "stdout",
          "text": [
            "\n",
            "Original x =  [1 2 5 6 7]\n",
            "\n",
            "x =  [1 2 3 4 5 6 7]\n",
            "\n",
            "Original Y = \n",
            " [[1 2 3]\n",
            " [7 8 9]]\n",
            "\n",
            "w = \n",
            " [[1 2 3]\n",
            " [4 5 6]\n",
            " [7 8 9]]\n",
            "\n",
            "v = \n",
            " [[1 5 2 3]\n",
            " [7 4 8 9]]\n"
          ]
        }
      ],
      "source": [
        "# We create a rank 1 ndarray \n",
        "x = np.array([1, 2, 5, 6, 7])\n",
        "\n",
        "# We create a rank 2 ndarray \n",
        "Y = np.array([[1,2,3],[7,8,9]])\n",
        "\n",
        "# We print x\n",
        "print()\n",
        "print('Original x = ', x)\n",
        "\n",
        "# We insert the integer 3 and 4 between 2 and 5 in x. \n",
        "x = np.insert(x,2,[3,4])\n",
        "\n",
        "# We print x with the inserted elements\n",
        "print()\n",
        "print('x = ', x)\n",
        "\n",
        "# We print Y\n",
        "print()\n",
        "print('Original Y = \\n', Y)\n",
        "\n",
        "# We insert a row between the first and last row of y\n",
        "w = np.insert(Y,1,[4,5,6],axis=0)\n",
        "\n",
        "# We insert a column between the first and second column of y\n",
        "v = np.insert(Y,1,[5,4], axis=1)\n",
        "\n",
        "# We print w\n",
        "print()\n",
        "print('w = \\n', w)\n",
        "\n",
        "# We print v\n",
        "print()\n",
        "print('v = \\n', v)"
      ]
    },
    {
      "cell_type": "markdown",
      "id": "de0ca8da",
      "metadata": {
        "id": "de0ca8da"
      },
      "source": [
        "NumPy also allows us to stack ndarrays on top of each other, or to stack them side by side. The stacking is done using either the np.vstack() function for vertical stacking, or the np.hstack() function for horizontal stacking. It is important to note that in order to stack ndarrays, the shape of the ndarrays must match. Let's see some examples:"
      ]
    },
    {
      "cell_type": "code",
      "execution_count": 35,
      "id": "27476517",
      "metadata": {
        "id": "27476517",
        "outputId": "80009b84-f097-4040-85fa-1d2cf00927e1",
        "colab": {
          "base_uri": "https://localhost:8080/"
        }
      },
      "outputs": [
        {
          "output_type": "stream",
          "name": "stdout",
          "text": [
            "\n",
            "x =  [1 2]\n",
            "\n",
            "Y = \n",
            " [[3 4]\n",
            " [5 6]]\n",
            "\n",
            "z = \n",
            " [[1 2]\n",
            " [3 4]\n",
            " [5 6]]\n",
            "\n",
            "w = \n",
            " [[3 4 1]\n",
            " [5 6 2]]\n"
          ]
        }
      ],
      "source": [
        "# We create a rank 1 ndarray \n",
        "x = np.array([1,2])\n",
        "\n",
        "# We create a rank 2 ndarray \n",
        "Y = np.array([[3,4],[5,6]])\n",
        "\n",
        "# We print x\n",
        "print()\n",
        "print('x = ', x)\n",
        "\n",
        "# We print Y\n",
        "print()\n",
        "print('Y = \\n', Y)\n",
        "\n",
        "# We stack x on top of Y\n",
        "z = np.vstack((x,Y))\n",
        "\n",
        "# We stack x on the right of Y. We need to reshape x in order to stack it on the right of Y. \n",
        "w = np.hstack((Y,x.reshape(2,1)))\n",
        "\n",
        "# We print z\n",
        "print()\n",
        "print('z = \\n', z)\n",
        "\n",
        "# We print w\n",
        "print()\n",
        "print('w = \\n', w)"
      ]
    },
    {
      "cell_type": "markdown",
      "id": "009b14c4",
      "metadata": {
        "id": "009b14c4"
      },
      "source": [
        "## **Slicing ndarrays:**\n",
        "As we mentioned earlier, in addition to being able to access individual elements one at a time, NumPy provides a way to access subsets of ndarrays. This is known as slicing. Slicing is performed by combining indices with the colon : symbol inside the square brackets. In general you will come across three types of slicing:\n",
        "\n",
        "```\n",
        "1. ndarray[start:end]\n",
        "2. ndarray[start:]\n",
        "3. ndarray[:end]\n",
        "```\n",
        "The first method is used to select elements between the start and end indices. The second method is used to select all elements from the start index till the last index. The third method is used to select all elements from the first index till the end index. We should note that in methods one and three, the end index is excluded. We should also note that since ndarrays can be multidimensional, when doing slicing you usually have to specify a slice for each dimension of the array.\n",
        "\n",
        "We will now see some examples of how to use the above methods to select different subsets of a rank 2 ndarray.\n"
      ]
    },
    {
      "cell_type": "code",
      "execution_count": 36,
      "id": "d9899710",
      "metadata": {
        "id": "d9899710",
        "outputId": "38802125-463f-41d4-9880-12b2b5d06f2c",
        "colab": {
          "base_uri": "https://localhost:8080/"
        }
      },
      "outputs": [
        {
          "output_type": "stream",
          "name": "stdout",
          "text": [
            "\n",
            "X = \n",
            " [[ 0  1  2  3  4]\n",
            " [ 5  6  7  8  9]\n",
            " [10 11 12 13 14]\n",
            " [15 16 17 18 19]]\n",
            "\n",
            "Z = \n",
            " [[ 7  8  9]\n",
            " [12 13 14]\n",
            " [17 18 19]]\n",
            "\n",
            "W = \n",
            " [[ 7  8  9]\n",
            " [12 13 14]\n",
            " [17 18 19]]\n",
            "\n",
            "Y = \n",
            " [[ 2  3  4]\n",
            " [ 7  8  9]\n",
            " [12 13 14]]\n",
            "\n",
            "v =  [10 11 12 13 14]\n",
            "\n",
            "q =  [ 2  7 12 17]\n",
            "\n",
            "R = \n",
            " [[ 2]\n",
            " [ 7]\n",
            " [12]\n",
            " [17]]\n"
          ]
        }
      ],
      "source": [
        "# We create a 4 x 5 ndarray that contains integers from 0 to 19\n",
        "X = np.arange(20).reshape(4, 5)\n",
        "\n",
        "# We print X\n",
        "print()\n",
        "print('X = \\n', X)\n",
        "print()\n",
        "\n",
        "# We select all the elements that are in the 2nd through 4th rows and in the 3rd to 5th columns\n",
        "Z = X[1:4,2:5]\n",
        "\n",
        "# We print Z\n",
        "print('Z = \\n', Z)\n",
        "\n",
        "# We can select the same elements as above using method 2\n",
        "W = X[1:,2:5]\n",
        "\n",
        "# We print W\n",
        "print()\n",
        "print('W = \\n', W)\n",
        "\n",
        "# We select all the elements that are in the 1st through 3rd rows and in the 3rd to 4th columns\n",
        "Y = X[:3,2:5]\n",
        "\n",
        "# We print Y\n",
        "print()\n",
        "print('Y = \\n', Y)\n",
        "\n",
        "# We select all the elements in the 3rd row\n",
        "v = X[2,:]\n",
        "\n",
        "# We print v\n",
        "print()\n",
        "print('v = ', v)\n",
        "\n",
        "# We select all the elements in the 3rd column\n",
        "q = X[:,2]\n",
        "\n",
        "# We print q\n",
        "print()\n",
        "print('q = ', q)\n",
        "\n",
        "# We select all the elements in the 3rd column but return a rank 2 ndarray\n",
        "R = X[:,2:3]\n",
        "\n",
        "# We print R\n",
        "print()\n",
        "print('R = \\n', R)"
      ]
    },
    {
      "cell_type": "markdown",
      "id": "97273915",
      "metadata": {
        "id": "97273915"
      },
      "source": [
        "## **Boolean Indexing:**\n",
        "There are many situations in which we don't know the indices of the elements we want to select. For example, suppose we have a 10,000 x 10,000 ndarray of random integers ranging from 1 to 15,000 and we only want to select those integers that are less than 20. Boolean indexing can help us in these cases, by allowing us select elements using logical arguments instead of explicit indices. Let's see some examples:"
      ]
    },
    {
      "cell_type": "code",
      "execution_count": 37,
      "id": "6796057c",
      "metadata": {
        "id": "6796057c",
        "outputId": "04e19abc-a7e6-4dc8-e5ce-09efd982c4c9",
        "colab": {
          "base_uri": "https://localhost:8080/"
        }
      },
      "outputs": [
        {
          "output_type": "stream",
          "name": "stdout",
          "text": [
            "\n",
            "Original X = \n",
            " [[ 0  1  2  3  4]\n",
            " [ 5  6  7  8  9]\n",
            " [10 11 12 13 14]\n",
            " [15 16 17 18 19]\n",
            " [20 21 22 23 24]]\n",
            "\n",
            "The elements in X that are greater than 10: [11 12 13 14 15 16 17 18 19 20 21 22 23 24]\n",
            "The elements in X that less than or equal to 7: [0 1 2 3 4 5 6 7]\n",
            "The elements in X that are between 10 and 17: [11 12 13 14 15 16]\n",
            "\n",
            "X = \n",
            " [[ 0  1  2  3  4]\n",
            " [ 5  6  7  8  9]\n",
            " [10 -1 -1 -1 -1]\n",
            " [-1 -1 17 18 19]\n",
            " [20 21 22 23 24]]\n",
            "\n"
          ]
        }
      ],
      "source": [
        "import numpy as np\n",
        "\n",
        "# We create a 5 x 5 ndarray that contains integers from 0 to 24\n",
        "X = np.arange(25).reshape(5, 5)\n",
        "\n",
        "# We print X\n",
        "print()\n",
        "print('Original X = \\n', X)\n",
        "print()\n",
        "\n",
        "# We use Boolean indexing to select elements in X:\n",
        "print('The elements in X that are greater than 10:', X[X > 10])\n",
        "print('The elements in X that less than or equal to 7:', X[X <= 7])\n",
        "print('The elements in X that are between 10 and 17:', X[(X > 10) & (X < 17)])\n",
        "\n",
        "# We use Boolean indexing to assign the elements that are between 10 and 17 the value of -1\n",
        "X[(X > 10) & (X < 17)] = -1\n",
        "\n",
        "# We print X\n",
        "print()\n",
        "print('X = \\n', X)\n",
        "print()"
      ]
    },
    {
      "cell_type": "markdown",
      "id": "81a73d5b",
      "metadata": {
        "id": "81a73d5b"
      },
      "source": [
        "## **Set Operations:**\n",
        "\n",
        "In addition to Boolean Indexing NumPy also allows for set operations. This useful when comparing ndarrays, for example, to find common elements between two ndarrays. Let's see some examples:"
      ]
    },
    {
      "cell_type": "code",
      "execution_count": 38,
      "id": "95a8a3bc",
      "metadata": {
        "id": "95a8a3bc",
        "outputId": "784d0872-e43a-4e13-9e46-1217ab87a2a3",
        "colab": {
          "base_uri": "https://localhost:8080/"
        }
      },
      "outputs": [
        {
          "output_type": "stream",
          "name": "stdout",
          "text": [
            "\n",
            "x =  [1 2 3 4 5]\n",
            "\n",
            "y =  [6 7 2 8 4]\n",
            "\n",
            "The elements that are both in x and y: [2 4]\n",
            "The elements that are in x that are not in y: [1 3 5]\n",
            "All the elements of x and y: [1 2 3 4 5 6 7 8]\n"
          ]
        }
      ],
      "source": [
        "# We create a rank 1 ndarray\n",
        "x = np.array([1,2,3,4,5])\n",
        "\n",
        "# We create a rank 1 ndarray\n",
        "y = np.array([6,7,2,8,4])\n",
        "\n",
        "# We print x\n",
        "print()\n",
        "print('x = ', x)\n",
        "\n",
        "# We print y\n",
        "print()\n",
        "print('y = ', y)\n",
        "\n",
        "# We use set operations to compare x and y:\n",
        "print()\n",
        "print('The elements that are both in x and y:', np.intersect1d(x,y))\n",
        "print('The elements that are in x that are not in y:', np.setdiff1d(x,y))\n",
        "print('All the elements of x and y:',np.union1d(x,y))"
      ]
    },
    {
      "cell_type": "markdown",
      "id": "7f0b04e7",
      "metadata": {
        "id": "7f0b04e7"
      },
      "source": [
        "## **Sort():**\n",
        "\n",
        "We can also sort ndarrays in NumPy. We will learn how to use the np.sort() function to sort rank 1 and rank 2 ndarrays in different ways. Like with other functions we saw before, the sort function can also be used as a method. However, there is a big difference on how the data is stored in memory in this case. \n",
        "- When np.sort() is used as a function, it sorts the ndrrays out of place, meaning, that it doesn't change the original ndarray being sorted. \n",
        "- However, when you use sort as a method, ndarray.sort() sorts the ndarray in place, meaning, that the original array will be changed to the sorted one. \n",
        "\n",
        "Let's see some examples:"
      ]
    },
    {
      "cell_type": "code",
      "execution_count": 39,
      "id": "462b23cc",
      "metadata": {
        "id": "462b23cc",
        "outputId": "677f3140-1aad-478a-83ee-27d85931a4ea",
        "colab": {
          "base_uri": "https://localhost:8080/"
        }
      },
      "outputs": [
        {
          "output_type": "stream",
          "name": "stdout",
          "text": [
            "\n",
            "Original x =  [ 5  7 10  9  6 10  1  6  7  7]\n",
            "\n",
            "Sorted x (out of place): [ 1  5  6  6  7  7  7  9 10 10]\n",
            "\n",
            "x after sorting: [ 5  7 10  9  6 10  1  6  7  7]\n"
          ]
        }
      ],
      "source": [
        "# We create an unsorted rank 1 ndarray\n",
        "x = np.random.randint(1,11,size=(10,))\n",
        "\n",
        "# We print x\n",
        "print()\n",
        "print('Original x = ', x)\n",
        "\n",
        "# We sort x and print the sorted array using sort as a function.\n",
        "print()\n",
        "print('Sorted x (out of place):', np.sort(x))\n",
        "\n",
        "# When we sort out of place the original array remains intact. To see this we print x again\n",
        "print()\n",
        "print('x after sorting:', x)"
      ]
    },
    {
      "cell_type": "markdown",
      "id": "96449830",
      "metadata": {
        "id": "96449830"
      },
      "source": [
        "let's see how we can sort ndarrays in place, by using sort as a method:"
      ]
    },
    {
      "cell_type": "code",
      "execution_count": 40,
      "id": "cdb70649",
      "metadata": {
        "id": "cdb70649",
        "outputId": "c988dd74-6d5d-44cd-cb8e-81e82f61b585",
        "colab": {
          "base_uri": "https://localhost:8080/"
        }
      },
      "outputs": [
        {
          "output_type": "stream",
          "name": "stdout",
          "text": [
            "\n",
            "Original x =  [2 8 6 9 4 4 7 3 9 7]\n",
            "\n",
            "x after sorting: [2 3 4 4 6 7 7 8 9 9]\n"
          ]
        }
      ],
      "source": [
        "# We create an unsorted rank 1 ndarray\n",
        "x = np.random.randint(1,11,size=(10,))\n",
        "\n",
        "# We print x\n",
        "print()\n",
        "print('Original x = ', x)\n",
        "\n",
        "# We sort x and print the sorted array using sort as a method.\n",
        "x.sort()\n",
        "\n",
        "# When we sort in place the original array is changed to the sorted array. To see this we print x again\n",
        "print()\n",
        "print('x after sorting:', x)"
      ]
    },
    {
      "cell_type": "markdown",
      "id": "8ec0cbbc",
      "metadata": {
        "id": "8ec0cbbc"
      },
      "source": [
        "Notice that np.sort() sorts the array but, if the ndarray being sorted has repeated values, np.sort() leaves those values in the sorted array. However, if desired, we can sort only the unique elements in x by combining the sort function with the unique function. Let's see how we can sort the unique elements of x above:"
      ]
    },
    {
      "cell_type": "code",
      "execution_count": 41,
      "id": "931bf53b",
      "metadata": {
        "id": "931bf53b",
        "outputId": "9376268d-f7f1-48f3-d9d3-9733f8144697",
        "colab": {
          "base_uri": "https://localhost:8080/"
        }
      },
      "outputs": [
        {
          "output_type": "stream",
          "name": "stdout",
          "text": [
            "\n",
            "Original x =  [ 6  4  9  3  3  2  9  1 10 10]\n",
            "[ 1  2  3  4  6  9 10]\n"
          ]
        }
      ],
      "source": [
        "# We create an unsorted rank 1 ndarray\n",
        "x = np.random.randint(1,11,size=(10,))\n",
        "\n",
        "# We print x\n",
        "print()\n",
        "print('Original x = ', x)\n",
        "\n",
        "# We sort x but only keep the unique elements in x\n",
        "print(np.sort(np.unique(x)))"
      ]
    },
    {
      "cell_type": "markdown",
      "id": "9c86df55",
      "metadata": {
        "id": "9c86df55"
      },
      "source": [
        "When sorting rank 2 ndarrays, we need to specify to the np.sort() function whether we are sorting by rows or columns. This is done by using the axis keyword. Let's see some examples:\n"
      ]
    },
    {
      "cell_type": "code",
      "execution_count": 42,
      "id": "40621139",
      "metadata": {
        "id": "40621139",
        "outputId": "ffbf6806-77f3-4537-c72c-fce230064053",
        "colab": {
          "base_uri": "https://localhost:8080/"
        }
      },
      "outputs": [
        {
          "output_type": "stream",
          "name": "stdout",
          "text": [
            "\n",
            "Original X = \n",
            " [[ 8  6  7  6  5]\n",
            " [ 5  9  6  1  3]\n",
            " [ 4  2 10  1  5]\n",
            " [ 2  5  3  3  7]\n",
            " [ 2  8 10  7  1]]\n",
            "\n",
            "\n",
            "X with sorted columns :\n",
            " [[ 2  2  3  1  1]\n",
            " [ 2  5  6  1  3]\n",
            " [ 4  6  7  3  5]\n",
            " [ 5  8 10  6  5]\n",
            " [ 8  9 10  7  7]]\n",
            "\n",
            "X with sorted rows :\n",
            " [[ 5  6  6  7  8]\n",
            " [ 1  3  5  6  9]\n",
            " [ 1  2  4  5 10]\n",
            " [ 2  3  3  5  7]\n",
            " [ 1  2  7  8 10]]\n"
          ]
        }
      ],
      "source": [
        "# We create an unsorted rank 2 ndarray\n",
        "X = np.random.randint(1,11,size=(5,5))\n",
        "\n",
        "# We print X\n",
        "print()\n",
        "print('Original X = \\n', X)\n",
        "print()\n",
        "\n",
        "# We sort the columns of X and print the sorted array\n",
        "print()\n",
        "print('X with sorted columns :\\n', np.sort(X, axis = 0))\n",
        "\n",
        "# We sort the rows of X and print the sorted array\n",
        "print()\n",
        "print('X with sorted rows :\\n', np.sort(X, axis = 1))"
      ]
    },
    {
      "cell_type": "markdown",
      "id": "f1b73380",
      "metadata": {
        "id": "f1b73380"
      },
      "source": [
        "## **Arithmetic Operations:**\n",
        "Let's start by doing element-wise addition, subtraction, multiplication, and division, between ndarrays. To do this, NumPy provides a functional approach, where we use functions such as np.add(), or by using arithmetic symbols, such as +, that resembles more how we write mathematical equations. Both forms will do the same operation, the only difference is that if you use the function approach, the functions usually have options that you can tweak using keywords. It is important to note that when performing element-wise operations, the shapes of the ndarrays being operated on, must have the same shape or be broadcastable. We'll explain more about this later in this lesson. Let's start by performing element-wise arithmetic operations on rank 1 ndarrays:"
      ]
    },
    {
      "cell_type": "code",
      "execution_count": 43,
      "id": "eede2e75",
      "metadata": {
        "id": "eede2e75",
        "outputId": "18b6754c-d979-4e1e-9ec7-aaf81df6b764",
        "colab": {
          "base_uri": "https://localhost:8080/"
        }
      },
      "outputs": [
        {
          "output_type": "stream",
          "name": "stdout",
          "text": [
            "\n",
            "x =  [1 2 3 4]\n",
            "\n",
            "y =  [5.5 6.5 7.5 8.5]\n",
            "\n",
            "x + y =  [ 6.5  8.5 10.5 12.5]\n",
            "add(x,y) =  [ 6.5  8.5 10.5 12.5]\n",
            "\n",
            "x - y =  [-4.5 -4.5 -4.5 -4.5]\n",
            "subtract(x,y) =  [-4.5 -4.5 -4.5 -4.5]\n",
            "\n",
            "x * y =  [ 5.5 13.  22.5 34. ]\n",
            "multiply(x,y) =  [ 5.5 13.  22.5 34. ]\n",
            "\n",
            "x / y =  [0.18181818 0.30769231 0.4        0.47058824]\n",
            "divide(x,y) =  [0.18181818 0.30769231 0.4        0.47058824]\n"
          ]
        }
      ],
      "source": [
        "# We create two rank 1 ndarrays\n",
        "x = np.array([1,2,3,4])\n",
        "y = np.array([5.5,6.5,7.5,8.5])\n",
        "\n",
        "# We print x\n",
        "print()\n",
        "print('x = ', x)\n",
        "\n",
        "# We print y\n",
        "print()\n",
        "print('y = ', y)\n",
        "print()\n",
        "\n",
        "# We perfrom basic element-wise operations using arithmetic symbols and functions\n",
        "print('x + y = ', x + y)\n",
        "print('add(x,y) = ', np.add(x,y))\n",
        "print()\n",
        "print('x - y = ', x - y)\n",
        "print('subtract(x,y) = ', np.subtract(x,y))\n",
        "print()\n",
        "print('x * y = ', x * y)\n",
        "print('multiply(x,y) = ', np.multiply(x,y))\n",
        "print()\n",
        "print('x / y = ', x / y)\n",
        "print('divide(x,y) = ', np.divide(x,y))"
      ]
    },
    {
      "cell_type": "markdown",
      "id": "5272c310",
      "metadata": {
        "id": "5272c310"
      },
      "source": [
        "We can also perform the same element-wise arithmetic operations on rank 2 ndarrays. Again, remember that in order to do these operations the shapes of the ndarrays being operated on, must have the same shape or be broadcastable."
      ]
    },
    {
      "cell_type": "code",
      "execution_count": 44,
      "id": "171919c9",
      "metadata": {
        "id": "171919c9",
        "outputId": "de97c2f9-d739-4dbf-c272-5bdb471d5b09",
        "colab": {
          "base_uri": "https://localhost:8080/"
        }
      },
      "outputs": [
        {
          "output_type": "stream",
          "name": "stdout",
          "text": [
            "\n",
            "X = \n",
            " [[1 2]\n",
            " [3 4]]\n",
            "\n",
            "Y = \n",
            " [[5.5 6.5]\n",
            " [7.5 8.5]]\n",
            "\n",
            "X + Y = \n",
            " [[ 6.5  8.5]\n",
            " [10.5 12.5]]\n",
            "\n",
            "add(X,Y) = \n",
            " [[ 6.5  8.5]\n",
            " [10.5 12.5]]\n",
            "\n",
            "X - Y = \n",
            " [[-4.5 -4.5]\n",
            " [-4.5 -4.5]]\n",
            "\n",
            "subtract(X,Y) = \n",
            " [[-4.5 -4.5]\n",
            " [-4.5 -4.5]]\n",
            "\n",
            "X * Y = \n",
            " [[ 5.5 13. ]\n",
            " [22.5 34. ]]\n",
            "\n",
            "multiply(X,Y) = \n",
            " [[ 5.5 13. ]\n",
            " [22.5 34. ]]\n",
            "\n",
            "X / Y = \n",
            " [[0.18181818 0.30769231]\n",
            " [0.4        0.47058824]]\n",
            "\n",
            "divide(X,Y) = \n",
            " [[0.18181818 0.30769231]\n",
            " [0.4        0.47058824]]\n"
          ]
        }
      ],
      "source": [
        "# We create two rank 2 ndarrays\n",
        "X = np.array([1,2,3,4]).reshape(2,2)\n",
        "Y = np.array([5.5,6.5,7.5,8.5]).reshape(2,2)\n",
        "\n",
        "# We print X\n",
        "print()\n",
        "print('X = \\n', X)\n",
        "\n",
        "# We print Y\n",
        "print()\n",
        "print('Y = \\n', Y)\n",
        "print()\n",
        "\n",
        "# We perform basic element-wise operations using arithmetic symbols and functions\n",
        "print('X + Y = \\n', X + Y)\n",
        "print()\n",
        "print('add(X,Y) = \\n', np.add(X,Y))\n",
        "print()\n",
        "print('X - Y = \\n', X - Y)\n",
        "print()\n",
        "print('subtract(X,Y) = \\n', np.subtract(X,Y))\n",
        "print()\n",
        "print('X * Y = \\n', X * Y)\n",
        "print()\n",
        "print('multiply(X,Y) = \\n', np.multiply(X,Y))\n",
        "print()\n",
        "print('X / Y = \\n', X / Y)\n",
        "print()\n",
        "print('divide(X,Y) = \\n', np.divide(X,Y))"
      ]
    },
    {
      "cell_type": "markdown",
      "id": "a8bfd62e",
      "metadata": {
        "id": "a8bfd62e"
      },
      "source": [
        "We can also apply mathematical functions, such as sqrt(x), to all elements of an ndarray at once."
      ]
    },
    {
      "cell_type": "code",
      "execution_count": 45,
      "id": "26b493c7",
      "metadata": {
        "id": "26b493c7",
        "outputId": "d172fc95-561d-44bb-fe83-3457b450a35a",
        "colab": {
          "base_uri": "https://localhost:8080/"
        }
      },
      "outputs": [
        {
          "output_type": "stream",
          "name": "stdout",
          "text": [
            "\n",
            "x =  [1 2 3 4]\n",
            "\n",
            "EXP(x) = [ 2.71828183  7.3890561  20.08553692 54.59815003]\n",
            "\n",
            "SQRT(x) = [1.         1.41421356 1.73205081 2.        ]\n",
            "\n",
            "POW(x,2) = [ 1  4  9 16]\n"
          ]
        }
      ],
      "source": [
        "# We create a rank 1 ndarray\n",
        "x = np.array([1,2,3,4])\n",
        "\n",
        "# We print x\n",
        "print()\n",
        "print('x = ', x)\n",
        "\n",
        "# We apply different mathematical functions to all elements of x\n",
        "print()\n",
        "print('EXP(x) =', np.exp(x))\n",
        "print()\n",
        "print('SQRT(x) =',np.sqrt(x))\n",
        "print()\n",
        "print('POW(x,2) =',np.power(x,2)) # We raise all elements to the power of 2"
      ]
    },
    {
      "cell_type": "markdown",
      "id": "0bae4cc8",
      "metadata": {
        "id": "0bae4cc8"
      },
      "source": [
        "Another great feature of NumPy is that it has a wide variety of statistical functions. Statistical functions provide us with statistical information about the elements in an ndarray. Let's see some examples:"
      ]
    },
    {
      "cell_type": "code",
      "execution_count": 46,
      "id": "6380c1e9",
      "metadata": {
        "id": "6380c1e9",
        "outputId": "3a77ab8d-0a4b-4aaf-cecb-fca7730e32e5",
        "colab": {
          "base_uri": "https://localhost:8080/"
        }
      },
      "outputs": [
        {
          "output_type": "stream",
          "name": "stdout",
          "text": [
            "\n",
            "X = \n",
            " [[1 2]\n",
            " [3 4]]\n",
            "\n",
            "Average of all elements in X: 2.5\n",
            "Average of all elements in the columns of X: [2. 3.]\n",
            "Average of all elements in the rows of X: [1.5 3.5]\n",
            "\n",
            "Sum of all elements in X: 10\n",
            "Sum of all elements in the columns of X: [4 6]\n",
            "Sum of all elements in the rows of X: [3 7]\n",
            "\n",
            "Standard Deviation of all elements in X: 1.118033988749895\n",
            "Standard Deviation of all elements in the columns of X: [1. 1.]\n",
            "Standard Deviation of all elements in the rows of X: [0.5 0.5]\n",
            "\n",
            "Median of all elements in X: 2.5\n",
            "Median of all elements in the columns of X: [2. 3.]\n",
            "Median of all elements in the rows of X: [1.5 3.5]\n",
            "\n",
            "Maximum value of all elements in X: 4\n",
            "Maximum value of all elements in the columns of X: [3 4]\n",
            "Maximum value of all elements in the rows of X: [2 4]\n",
            "\n",
            "Minimum value of all elements in X: 1\n",
            "Minimum value of all elements in the columns of X: [1 2]\n",
            "Minimum value of all elements in the rows of X: [1 3]\n"
          ]
        }
      ],
      "source": [
        "# We create a 2 x 2 ndarray\n",
        "X = np.array([[1,2], [3,4]])\n",
        "\n",
        "# We print x\n",
        "print()\n",
        "print('X = \\n', X)\n",
        "print()\n",
        "\n",
        "print('Average of all elements in X:', X.mean())\n",
        "print('Average of all elements in the columns of X:', X.mean(axis=0))\n",
        "print('Average of all elements in the rows of X:', X.mean(axis=1))\n",
        "print()\n",
        "print('Sum of all elements in X:', X.sum())\n",
        "print('Sum of all elements in the columns of X:', X.sum(axis=0))\n",
        "print('Sum of all elements in the rows of X:', X.sum(axis=1))\n",
        "print()\n",
        "print('Standard Deviation of all elements in X:', X.std())\n",
        "print('Standard Deviation of all elements in the columns of X:', X.std(axis=0))\n",
        "print('Standard Deviation of all elements in the rows of X:', X.std(axis=1))\n",
        "print()\n",
        "print('Median of all elements in X:', np.median(X))\n",
        "print('Median of all elements in the columns of X:', np.median(X,axis=0))\n",
        "print('Median of all elements in the rows of X:', np.median(X,axis=1))\n",
        "print()\n",
        "print('Maximum value of all elements in X:', X.max())\n",
        "print('Maximum value of all elements in the columns of X:', X.max(axis=0))\n",
        "print('Maximum value of all elements in the rows of X:', X.max(axis=1))\n",
        "print()\n",
        "print('Minimum value of all elements in X:', X.min())\n",
        "print('Minimum value of all elements in the columns of X:', X.min(axis=0))\n",
        "print('Minimum value of all elements in the rows of X:', X.min(axis=1))"
      ]
    },
    {
      "cell_type": "markdown",
      "id": "4ab6cca5",
      "metadata": {
        "id": "4ab6cca5"
      },
      "source": [
        "Finally, let's see how NumPy can perform arithmetics between a single numbers and all the elements of an ndarray without the use of complicated loops."
      ]
    },
    {
      "cell_type": "code",
      "execution_count": 47,
      "id": "029eb748",
      "metadata": {
        "id": "029eb748",
        "outputId": "27fa933b-4532-423f-ec2d-e8f1a15aca36",
        "colab": {
          "base_uri": "https://localhost:8080/"
        }
      },
      "outputs": [
        {
          "output_type": "stream",
          "name": "stdout",
          "text": [
            "\n",
            "X = \n",
            " [[1 2]\n",
            " [3 4]]\n",
            "\n",
            "3 * X = \n",
            " [[ 3  6]\n",
            " [ 9 12]]\n",
            "\n",
            "3 + X = \n",
            " [[4 5]\n",
            " [6 7]]\n",
            "\n",
            "X - 3 = \n",
            " [[-2 -1]\n",
            " [ 0  1]]\n",
            "\n",
            "X / 3 = \n",
            " [[0.33333333 0.66666667]\n",
            " [1.         1.33333333]]\n"
          ]
        }
      ],
      "source": [
        "# We create a 2 x 2 ndarray\n",
        "X = np.array([[1,2], [3,4]])\n",
        "\n",
        "# We print x\n",
        "print()\n",
        "print('X = \\n', X)\n",
        "print()\n",
        "\n",
        "print('3 * X = \\n', 3 * X)\n",
        "print()\n",
        "print('3 + X = \\n', 3 + X)\n",
        "print()\n",
        "print('X - 3 = \\n', X - 3)\n",
        "print()\n",
        "print('X / 3 = \\n', X / 3)"
      ]
    },
    {
      "cell_type": "markdown",
      "id": "aaeccaf1",
      "metadata": {
        "id": "aaeccaf1"
      },
      "source": [
        "## **Broadcasting:**\n",
        "In order to do element-wise operations, NumPy sometimes uses something called Broadcasting. Broadcasting is the term used to describe how NumPy handles element-wise arithmetic operations with ndarrays of different shapes. For example, broadcasting is used implicitly when doing arithmetic operations between scalars and ndarrays.\n",
        "\n",
        "In the examples above, NumPy is working behind the scenes to broadcast 3 along the ndarray so that they have the same shape. This allows us to add 3 to each element of X with just one line of code.\n",
        "\n",
        "Subject to certain constraints, Numpy can do the same for two ndarrays of different shapes, as we can see below."
      ]
    },
    {
      "cell_type": "code",
      "execution_count": 48,
      "id": "0619fee7",
      "metadata": {
        "id": "0619fee7",
        "outputId": "13abcaa3-c138-43ea-9946-8cf901044f5d",
        "colab": {
          "base_uri": "https://localhost:8080/"
        }
      },
      "outputs": [
        {
          "output_type": "stream",
          "name": "stdout",
          "text": [
            "\n",
            "x =  [1 2 3]\n",
            "\n",
            "\n",
            "Y = \n",
            " [[1 2 3]\n",
            " [4 5 6]\n",
            " [7 8 9]]\n",
            "\n",
            "\n",
            "Z = \n",
            " [[1]\n",
            " [2]\n",
            " [3]]\n",
            "\n",
            "x + Y = \n",
            " [[ 2  4  6]\n",
            " [ 5  7  9]\n",
            " [ 8 10 12]]\n",
            "\n",
            "Z + Y = \n",
            " [[ 2  3  4]\n",
            " [ 6  7  8]\n",
            " [10 11 12]]\n"
          ]
        }
      ],
      "source": [
        "# We create a rank 1 ndarray\n",
        "x = np.array([1,2,3])\n",
        "\n",
        "# We create a 3 x 3 ndarray\n",
        "Y = np.array([[1,2,3],[4,5,6],[7,8,9]])\n",
        "\n",
        "# We create a 3 x 1 ndarray\n",
        "Z = np.array([1,2,3]).reshape(3,1)\n",
        "\n",
        "# We print x\n",
        "print()\n",
        "print('x = ', x)\n",
        "print()\n",
        "\n",
        "# We print Y\n",
        "print()\n",
        "print('Y = \\n', Y)\n",
        "print()\n",
        "\n",
        "# We print Z\n",
        "print()\n",
        "print('Z = \\n', Z)\n",
        "print()\n",
        "\n",
        "print('x + Y = \\n', x + Y)\n",
        "print()\n",
        "print('Z + Y = \\n',Z + Y)"
      ]
    },
    {
      "cell_type": "markdown",
      "id": "d5452df4",
      "metadata": {
        "id": "d5452df4"
      },
      "source": [
        "## **Programming Exercise:**\n",
        "\n",
        "You are given 5 cylindrical containers with different radius and heights ranging between 5 and 25 cm. Find out\n",
        "\n",
        "a) the volume of water that each container can contain,\n",
        "\n",
        "b) the total volume of water that all containers can contain,\n",
        "\n",
        "c) which container can hold the highest volume and how much,\n",
        "\n",
        "d) which container can hold the least volume and how much,\n",
        "\n",
        "e) what is the mean, median and standard deviation of the volumes of water that can be contained in the containers?"
      ]
    },
    {
      "cell_type": "markdown",
      "id": "7d2ed523",
      "metadata": {
        "id": "7d2ed523"
      },
      "source": [
        "## **Solution:**"
      ]
    },
    {
      "cell_type": "markdown",
      "id": "26116b50",
      "metadata": {
        "id": "26116b50"
      },
      "source": [
        "First we need the radius and heights for the 5 cylindrical containers. The values for radius and heights are defined to be ranging between 5 and 25 cm. Let’s first define these in variables."
      ]
    },
    {
      "cell_type": "code",
      "execution_count": 49,
      "id": "efa3dbf6",
      "metadata": {
        "id": "efa3dbf6"
      },
      "outputs": [],
      "source": [
        "no_of_items = 10\n",
        "lower_limit = 5\n",
        "upper_limit = 25"
      ]
    },
    {
      "cell_type": "markdown",
      "id": "236f619d",
      "metadata": {
        "id": "236f619d"
      },
      "source": [
        "The number of items is 10 because we need 2 values for each of the five containers — one for the radius and the other for the height."
      ]
    },
    {
      "cell_type": "markdown",
      "id": "299868aa",
      "metadata": {
        "id": "299868aa"
      },
      "source": [
        "let’s generate some random numbers."
      ]
    },
    {
      "cell_type": "code",
      "execution_count": 50,
      "id": "1b6304e2",
      "metadata": {
        "id": "1b6304e2",
        "outputId": "7b58ef4f-7b18-4e2a-df9c-c71e7cb8c295",
        "colab": {
          "base_uri": "https://localhost:8080/"
        }
      },
      "outputs": [
        {
          "output_type": "stream",
          "name": "stdout",
          "text": [
            "[17 20  5  8  8 12 14 24 23  9]\n"
          ]
        }
      ],
      "source": [
        "import numpy as np\n",
        "np.random.seed(0)\n",
        "values = np.random.randint(lower_limit, upper_limit, no_of_items)\n",
        "print(values)"
      ]
    },
    {
      "cell_type": "markdown",
      "id": "8d7a4e61",
      "metadata": {
        "id": "8d7a4e61"
      },
      "source": [
        "Note that here the lower limit is inclusive and the upper limit is exclusive. \n",
        "\n",
        "np.random.seed is an interesting method. It takes a single argument (0 above) and what it does is, it returns a set of random numbers. What is interesting about it is the fact that, no matter when you execute the above block of code — now, after lunch or one year from now — you always get back the same set of random numbers. In contrast if you remove np.random.seedfrom the above block of code, you get back a different collection of random numbers on each execution. "
      ]
    },
    {
      "cell_type": "markdown",
      "id": "5f1c96fd",
      "metadata": {
        "id": "5f1c96fd"
      },
      "source": [
        "Here we can see that there is a single opening and closing square bracket. This shows that values is a one dimensional array. "
      ]
    },
    {
      "cell_type": "code",
      "execution_count": 51,
      "id": "75ea6020",
      "metadata": {
        "id": "75ea6020",
        "outputId": "f583994d-1a61-4d24-eadb-41a2bddb9098",
        "colab": {
          "base_uri": "https://localhost:8080/"
        }
      },
      "outputs": [
        {
          "output_type": "execute_result",
          "data": {
            "text/plain": [
              "1"
            ]
          },
          "metadata": {},
          "execution_count": 51
        }
      ],
      "source": [
        "values.ndim  #verify"
      ]
    },
    {
      "cell_type": "markdown",
      "id": "a8836b9b",
      "metadata": {
        "id": "a8836b9b"
      },
      "source": [
        "So, we need radius and heights for the cylinders, but right now all we have is a plain array of numbers. Let’s reorganize that so that the numbers appear in pairs, one for each cylinder. For this, we use the reshape method."
      ]
    },
    {
      "cell_type": "code",
      "execution_count": 52,
      "id": "73ca7391",
      "metadata": {
        "id": "73ca7391"
      },
      "outputs": [],
      "source": [
        "no_of_rows = 5\n",
        "no_of_columns = 2\n",
        "containers = values.reshape(no_of_rows, no_of_columns)"
      ]
    },
    {
      "cell_type": "markdown",
      "id": "656a0412",
      "metadata": {
        "id": "656a0412"
      },
      "source": [
        "The reshape method changes the shape of the NumPy array into any dimension we specify; the only requirement is that the product of the number of items along each dimension is equal to the total number of items. Here, we convert values into a 2D array with 5 rows (one for each container) and 2 columns (one for radius and the other for height) and store it in containers. Now, if you print out containers, you’ll see something like the following."
      ]
    },
    {
      "cell_type": "code",
      "execution_count": 53,
      "id": "a7d9d951",
      "metadata": {
        "id": "a7d9d951",
        "outputId": "d17beb49-d3b2-4951-e9bc-62c76049873a",
        "colab": {
          "base_uri": "https://localhost:8080/"
        }
      },
      "outputs": [
        {
          "output_type": "stream",
          "name": "stdout",
          "text": [
            "[[17 20]\n",
            " [ 5  8]\n",
            " [ 8 12]\n",
            " [14 24]\n",
            " [23  9]]\n"
          ]
        }
      ],
      "source": [
        "print(containers)"
      ]
    },
    {
      "cell_type": "markdown",
      "id": "97fa7dfb",
      "metadata": {
        "id": "97fa7dfb"
      },
      "source": [
        "Now that we have a 2D array let’s separate the radius and the height arrays. For this we’re going to use slicing."
      ]
    },
    {
      "cell_type": "markdown",
      "id": "694311a9",
      "metadata": {
        "id": "694311a9"
      },
      "source": [
        "Let’s say that the first column represents the radius and the second represents the heights. Let’s slice the containers."
      ]
    },
    {
      "cell_type": "code",
      "execution_count": 54,
      "id": "c0469230",
      "metadata": {
        "id": "c0469230"
      },
      "outputs": [],
      "source": [
        "radius = containers[:,0]"
      ]
    },
    {
      "cell_type": "markdown",
      "id": "8f1efbb0",
      "metadata": {
        "id": "8f1efbb0"
      },
      "source": [
        "This defines that we are taking all rows(:) and only the first column(0). Similarly, for height, we take all rows(:) and only the second column(1)."
      ]
    },
    {
      "cell_type": "code",
      "execution_count": 55,
      "id": "ae112bce",
      "metadata": {
        "id": "ae112bce"
      },
      "outputs": [],
      "source": [
        "height = containers[:,1]"
      ]
    },
    {
      "cell_type": "code",
      "execution_count": 56,
      "id": "d4150664",
      "metadata": {
        "id": "d4150664",
        "outputId": "e9c0d400-df1d-49cb-ce9a-deec6e9ddae8",
        "colab": {
          "base_uri": "https://localhost:8080/"
        }
      },
      "outputs": [
        {
          "output_type": "stream",
          "name": "stdout",
          "text": [
            "[17  5  8 14 23]\n"
          ]
        }
      ],
      "source": [
        "print(radius)"
      ]
    },
    {
      "cell_type": "code",
      "execution_count": 57,
      "id": "72baf190",
      "metadata": {
        "id": "72baf190",
        "outputId": "d3fa19ff-6ce5-41ef-f78a-cf705f619d69",
        "colab": {
          "base_uri": "https://localhost:8080/"
        }
      },
      "outputs": [
        {
          "output_type": "stream",
          "name": "stdout",
          "text": [
            "[20  8 12 24  9]\n"
          ]
        }
      ],
      "source": [
        "print(height)"
      ]
    },
    {
      "cell_type": "code",
      "execution_count": 58,
      "id": "33d16a8b",
      "metadata": {
        "id": "33d16a8b",
        "outputId": "7478d640-2a35-49c0-bcdb-43f2bbffe8ea",
        "colab": {
          "base_uri": "https://localhost:8080/"
        }
      },
      "outputs": [
        {
          "output_type": "stream",
          "name": "stdout",
          "text": [
            "[18158.40553775   628.31853072  2412.74315796 14778.05184249\n",
            " 14957.12262374]\n"
          ]
        }
      ],
      "source": [
        "#a) the volume of water that each container can contain\n",
        "\n",
        "volume = np.pi*(radius**2)*height\n",
        "print(volume)"
      ]
    },
    {
      "cell_type": "markdown",
      "id": "bb8ea62e",
      "metadata": {
        "id": "bb8ea62e"
      },
      "source": [
        "With a single line of code, it has computed the volumes for all 5 cylinders.  That is the power of NumPy."
      ]
    },
    {
      "cell_type": "markdown",
      "id": "6e76c721",
      "metadata": {
        "id": "6e76c721"
      },
      "source": [
        "Now, to find the total volume of the water contained in all the cylinders, we can simply sum the volumes of all the cylinders from the above array."
      ]
    },
    {
      "cell_type": "code",
      "execution_count": 59,
      "id": "c4223fed",
      "metadata": {
        "id": "c4223fed",
        "outputId": "10f78f7b-e6c6-4c08-d60b-495bdccf0910",
        "colab": {
          "base_uri": "https://localhost:8080/"
        }
      },
      "outputs": [
        {
          "output_type": "stream",
          "name": "stdout",
          "text": [
            "50934.64169265132\n"
          ]
        }
      ],
      "source": [
        "#b) the total volume of water that all containers can contain\n",
        "\n",
        "total_volume = volume.sum()\n",
        "print(total_volume)"
      ]
    },
    {
      "cell_type": "markdown",
      "id": "ad026306",
      "metadata": {
        "id": "ad026306"
      },
      "source": [
        "Now, to find which cylinder can hold the maximum volume of water, we can use the max method and the index of this cylinder in the array can be found by using the argmax method."
      ]
    },
    {
      "cell_type": "code",
      "execution_count": 60,
      "id": "a7288baf",
      "metadata": {
        "id": "a7288baf",
        "outputId": "1e8d3202-81f5-4c1e-951c-ae6fc8e3b7ff",
        "colab": {
          "base_uri": "https://localhost:8080/"
        }
      },
      "outputs": [
        {
          "output_type": "stream",
          "name": "stdout",
          "text": [
            "cylinder which can hold max amount of water: 0\n",
            "Max volume it can hold: 18158.405537749004\n"
          ]
        }
      ],
      "source": [
        "#c) which container can hold the highest volume and how much\n",
        "\n",
        "max_volume = volume.max()\n",
        "index_of_max_volume = volume.argmax()\n",
        "\n",
        "print(\"cylinder which can hold max amount of water:\", index_of_max_volume)\n",
        "print(\"Max volume it can hold:\", max_volume)"
      ]
    },
    {
      "cell_type": "markdown",
      "id": "371a5344",
      "metadata": {
        "id": "371a5344"
      },
      "source": [
        "Similarly, we can use the min method to find the minimum volume and argmin to find the index of the cylinder in the array."
      ]
    },
    {
      "cell_type": "code",
      "execution_count": 61,
      "id": "7d740a19",
      "metadata": {
        "id": "7d740a19",
        "outputId": "74a8d7af-3555-42e8-c81b-b3cc2b56d980",
        "colab": {
          "base_uri": "https://localhost:8080/"
        }
      },
      "outputs": [
        {
          "output_type": "stream",
          "name": "stdout",
          "text": [
            "cylinder which can hold min amount of water: 1\n",
            "Min volume it can hold: 628.3185307179587\n"
          ]
        }
      ],
      "source": [
        "#c) which container can hold the least volume and how much\n",
        "\n",
        "min_volume = volume.min()\n",
        "index_of_min_volume = volume.argmin()\n",
        "\n",
        "print(\"cylinder which can hold min amount of water:\", index_of_min_volume)\n",
        "print(\"Min volume it can hold:\", min_volume)"
      ]
    },
    {
      "cell_type": "markdown",
      "id": "54a635ad",
      "metadata": {
        "id": "54a635ad"
      },
      "source": [
        "Finally, we can calculate the mean, median and standard deviation of the volumes of the cylinders."
      ]
    },
    {
      "cell_type": "code",
      "execution_count": 62,
      "id": "6c0c3b2b",
      "metadata": {
        "id": "6c0c3b2b",
        "outputId": "e340adba-264c-421b-b895-004ed3a08d6f",
        "colab": {
          "base_uri": "https://localhost:8080/"
        }
      },
      "outputs": [
        {
          "output_type": "stream",
          "name": "stdout",
          "text": [
            "Volume Mean: 10186.928338530264\n",
            "Volume Median: 14778.051842486386\n",
            "Volume Std. Deviation 7199.758245451731\n"
          ]
        }
      ],
      "source": [
        "volume_mean = np.mean(volume)\n",
        "print(\"Volume Mean:\", volume_mean)\n",
        "volume_median = np.median(volume)\n",
        "print(\"Volume Median:\", volume_median)\n",
        "volume_standard_deviation = np.std(volume)\n",
        "print(\"Volume Std. Deviation\",volume_standard_deviation )"
      ]
    },
    {
      "cell_type": "markdown",
      "id": "8436193c",
      "metadata": {
        "id": "8436193c"
      },
      "source": [
        "# Linear Algebra in Numpy"
      ]
    },
    {
      "cell_type": "markdown",
      "id": "82e7f073",
      "metadata": {
        "id": "82e7f073"
      },
      "source": [
        "#  Determinant"
      ]
    },
    {
      "cell_type": "code",
      "execution_count": 65,
      "id": "5deadd55",
      "metadata": {
        "id": "5deadd55",
        "outputId": "e16834b7-6bf6-4dff-ae1b-be8964b229c2",
        "colab": {
          "base_uri": "https://localhost:8080/"
        }
      },
      "outputs": [
        {
          "output_type": "stream",
          "name": "stdout",
          "text": [
            "\n",
            "X = \n",
            " [[ 6  1  1]\n",
            " [ 4 -2  5]\n",
            " [ 2  8  7]]\n",
            "\n",
            "Determinant of X is: -306.0\n",
            "Determinant of X is: -306\n"
          ]
        }
      ],
      "source": [
        "\n",
        "# We create a 3 x 3 ndarray\n",
        "X = np.array([[6,1,1], [4, -2, 5], [2,8,7]]) \n",
        "\n",
        "# We print x\n",
        "print()\n",
        "print('X = \\n', X)\n",
        "print()\n",
        "\n",
        "print(\"Determinant of X is:\", np.linalg.det(X))\n",
        "print(\"Determinant of X is:\", 6*(-2*7 - 5*8) - 1*(4*7 - 5*2) + 1*(4*8 - -2*2))"
      ]
    },
    {
      "cell_type": "markdown",
      "id": "0ecd3650",
      "metadata": {
        "id": "0ecd3650"
      },
      "source": [
        "# Inverse"
      ]
    },
    {
      "cell_type": "markdown",
      "id": "6f6cb181",
      "metadata": {
        "id": "6f6cb181"
      },
      "source": [
        "if det(A) != 0\n",
        "\n",
        "    A-1 = adj(A)/det(A)\n",
        "    \n",
        "else\n",
        "\n",
        "    \"Inverse doesn't exist\""
      ]
    },
    {
      "cell_type": "code",
      "execution_count": 66,
      "id": "546b37fc",
      "metadata": {
        "id": "546b37fc",
        "outputId": "b9e21cd6-bab7-49d3-e6f2-9a6824baa4e9",
        "colab": {
          "base_uri": "https://localhost:8080/"
        }
      },
      "outputs": [
        {
          "output_type": "stream",
          "name": "stdout",
          "text": [
            "\n",
            "X = \n",
            " [[ 6  1  1]\n",
            " [ 4 -2  5]\n",
            " [ 2  8  7]]\n",
            "\n",
            "Inverse of X is:  \n",
            " [[ 0.17647059 -0.00326797 -0.02287582]\n",
            " [ 0.05882353 -0.13071895  0.08496732]\n",
            " [-0.11764706  0.1503268   0.05228758]]\n"
          ]
        }
      ],
      "source": [
        "# We create a 3 x 3 ndarray\n",
        "X = np.array([[6,1,1], [4, -2, 5], [2,8,7]]) \n",
        "\n",
        "# We print x\n",
        "print()\n",
        "print('X = \\n', X)\n",
        "print()\n",
        "\n",
        "print(\"Inverse of X is:  \\n\", np.linalg.inv(X))"
      ]
    },
    {
      "cell_type": "markdown",
      "id": "2b28fdb1",
      "metadata": {
        "id": "2b28fdb1"
      },
      "source": [
        "# Transpose"
      ]
    },
    {
      "cell_type": "code",
      "execution_count": 67,
      "id": "f3d80e55",
      "metadata": {
        "id": "f3d80e55",
        "outputId": "2f5b3a05-891d-4a2d-dbf6-3b5e4e29b9f3",
        "colab": {
          "base_uri": "https://localhost:8080/"
        }
      },
      "outputs": [
        {
          "output_type": "stream",
          "name": "stdout",
          "text": [
            "\n",
            "X = \n",
            " [[ 6  1  1]\n",
            " [ 4 -2  5]\n",
            " [ 2  8  7]]\n",
            "\n",
            "Transpose of X is:  \n",
            " [[ 6  4  2]\n",
            " [ 1 -2  8]\n",
            " [ 1  5  7]]\n"
          ]
        }
      ],
      "source": [
        "# We create a 3 x 3 ndarray\n",
        "X = np.array([[6,1,1], [4, -2, 5], [2,8,7]]) \n",
        "\n",
        "# We print x\n",
        "print()\n",
        "print('X = \\n', X)\n",
        "print()\n",
        "\n",
        "print(\"Transpose of X is:  \\n\", np.transpose(X))"
      ]
    },
    {
      "cell_type": "code",
      "execution_count": 67,
      "id": "808a747a",
      "metadata": {
        "id": "808a747a"
      },
      "outputs": [],
      "source": [
        ""
      ]
    }
  ],
  "metadata": {
    "kernelspec": {
      "display_name": "Python 3.6 (tensorflow)",
      "language": "python",
      "name": "tensorflow"
    },
    "language_info": {
      "codemirror_mode": {
        "name": "ipython",
        "version": 3
      },
      "file_extension": ".py",
      "mimetype": "text/x-python",
      "name": "python",
      "nbconvert_exporter": "python",
      "pygments_lexer": "ipython3",
      "version": "3.7.10"
    },
    "colab": {
      "name": "PSIT  - Day 6 Numpy.ipynb",
      "provenance": []
    }
  },
  "nbformat": 4,
  "nbformat_minor": 5
}